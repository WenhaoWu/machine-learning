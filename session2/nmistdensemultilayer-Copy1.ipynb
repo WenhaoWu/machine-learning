{
 "cells": [
  {
   "cell_type": "code",
   "execution_count": 339,
   "metadata": {
    "scrolled": true
   },
   "outputs": [],
   "source": [
    "import numpy as np\n",
    "import keras\n",
    "from keras.preprocessing import image\n",
    "import matplotlib.pyplot as plt\n",
    "import tensorflow as tf\n"
   ]
  },
  {
   "cell_type": "code",
   "execution_count": 340,
   "metadata": {},
   "outputs": [],
   "source": [
    "from keras.datasets import mnist\n",
    "\n",
    "(x_train, y_train), (x_test, y_test) = mnist.load_data()\n",
    "\n",
    "x_train = x_train.reshape(-1, 28 * 28).astype('float32') / 255.0\n",
    "x_test = x_test.reshape(-1, 28 * 28).astype('float32') / 255.0\n",
    "\n",
    "y_train = keras.utils.to_categorical(y_train)\n",
    "y_test = keras.utils.to_categorical(y_test)"
   ]
  },
  {
   "cell_type": "code",
   "execution_count": 341,
   "metadata": {},
   "outputs": [
    {
     "name": "stdout",
     "output_type": "stream",
     "text": [
      "_________________________________________________________________\n",
      "Layer (type)                 Output Shape              Param #   \n",
      "=================================================================\n",
      "dense_61 (Dense)             (None, 100)               78500     \n",
      "_________________________________________________________________\n",
      "dense_62 (Dense)             (None, 50)                5050      \n",
      "_________________________________________________________________\n",
      "dense_63 (Dense)             (None, 50)                2550      \n",
      "_________________________________________________________________\n",
      "dense_64 (Dense)             (None, 25)                1275      \n",
      "_________________________________________________________________\n",
      "dense_65 (Dense)             (None, 25)                650       \n",
      "_________________________________________________________________\n",
      "dense_66 (Dense)             (None, 10)                260       \n",
      "=================================================================\n",
      "Total params: 88,285\n",
      "Trainable params: 88,285\n",
      "Non-trainable params: 0\n",
      "_________________________________________________________________\n"
     ]
    }
   ],
   "source": [
    "model = keras.models.Sequential()\n",
    "model.add(keras.layers.Dense(100, input_shape=(28 * 28,), activation='relu'))\n",
    "model.add(keras.layers.Dense(50, activation='relu'))\n",
    "model.add(keras.layers.Dense(50, activation='relu'))\n",
    "model.add(keras.layers.Dense(25, activation='relu'))\n",
    "model.add(keras.layers.Dense(25, activation='relu'))\n",
    "model.add(keras.layers.Dense(10, activation='softmax'))\n",
    "\n",
    "model.summary()"
   ]
  },
  {
   "cell_type": "code",
   "execution_count": 342,
   "metadata": {},
   "outputs": [
    {
     "name": "stdout",
     "output_type": "stream",
     "text": [
      "Train on 60000 samples, validate on 10000 samples\n",
      "Epoch 1/20\n",
      "60000/60000 [==============================] - 4s 68us/step - loss: 1.2765 - acc: 0.5944 - val_loss: 0.4845 - val_acc: 0.8486\n",
      "Epoch 2/20\n",
      "60000/60000 [==============================] - 3s 55us/step - loss: 0.3783 - acc: 0.8905 - val_loss: 0.3003 - val_acc: 0.9146\n",
      "Epoch 3/20\n",
      "60000/60000 [==============================] - 4s 66us/step - loss: 0.2795 - acc: 0.9191 - val_loss: 0.2383 - val_acc: 0.9324\n",
      "Epoch 4/20\n",
      "60000/60000 [==============================] - 3s 58us/step - loss: 0.2218 - acc: 0.9357 - val_loss: 0.1996 - val_acc: 0.9415\n",
      "Epoch 5/20\n",
      "60000/60000 [==============================] - 4s 64us/step - loss: 0.1871 - acc: 0.9454 - val_loss: 0.1696 - val_acc: 0.9498\n",
      "Epoch 6/20\n",
      "60000/60000 [==============================] - 3s 58us/step - loss: 0.1618 - acc: 0.9526 - val_loss: 0.1561 - val_acc: 0.9527\n",
      "Epoch 7/20\n",
      "60000/60000 [==============================] - 4s 62us/step - loss: 0.1437 - acc: 0.9575 - val_loss: 0.1407 - val_acc: 0.9575\n",
      "Epoch 8/20\n",
      "60000/60000 [==============================] - 4s 59us/step - loss: 0.1296 - acc: 0.9616 - val_loss: 0.1403 - val_acc: 0.9584\n",
      "Epoch 9/20\n",
      "60000/60000 [==============================] - 4s 60us/step - loss: 0.1174 - acc: 0.9659 - val_loss: 0.1292 - val_acc: 0.9613\n",
      "Epoch 10/20\n",
      "60000/60000 [==============================] - 4s 64us/step - loss: 0.1077 - acc: 0.9688 - val_loss: 0.1247 - val_acc: 0.9632\n",
      "Epoch 11/20\n",
      "60000/60000 [==============================] - 4s 61us/step - loss: 0.0996 - acc: 0.9704 - val_loss: 0.1133 - val_acc: 0.9660\n",
      "Epoch 12/20\n",
      "60000/60000 [==============================] - 4s 60us/step - loss: 0.0929 - acc: 0.9728 - val_loss: 0.1249 - val_acc: 0.9615\n",
      "Epoch 13/20\n",
      "60000/60000 [==============================] - 4s 64us/step - loss: 0.0862 - acc: 0.9747 - val_loss: 0.1140 - val_acc: 0.9657\n",
      "Epoch 14/20\n",
      "60000/60000 [==============================] - 4s 61us/step - loss: 0.0797 - acc: 0.9770 - val_loss: 0.1047 - val_acc: 0.9679\n",
      "Epoch 15/20\n",
      "60000/60000 [==============================] - 4s 60us/step - loss: 0.0756 - acc: 0.9779 - val_loss: 0.1027 - val_acc: 0.9691\n",
      "Epoch 16/20\n",
      "60000/60000 [==============================] - 4s 61us/step - loss: 0.0709 - acc: 0.9789 - val_loss: 0.1023 - val_acc: 0.9688\n",
      "Epoch 17/20\n",
      "60000/60000 [==============================] - 4s 63us/step - loss: 0.0652 - acc: 0.9806 - val_loss: 0.1039 - val_acc: 0.9687\n",
      "Epoch 18/20\n",
      "60000/60000 [==============================] - 4s 62us/step - loss: 0.0617 - acc: 0.9820 - val_loss: 0.1562 - val_acc: 0.9532\n",
      "Epoch 19/20\n",
      "60000/60000 [==============================] - 4s 62us/step - loss: 0.0584 - acc: 0.9833 - val_loss: 0.0977 - val_acc: 0.9696\n",
      "Epoch 20/20\n",
      "60000/60000 [==============================] - 4s 66us/step - loss: 0.0545 - acc: 0.9842 - val_loss: 0.0920 - val_acc: 0.9711\n"
     ]
    }
   ],
   "source": [
    "model.compile(optimizer='sgd', loss='categorical_crossentropy', metrics=['acc'])\n",
    "\n",
    "hist = model.fit(x_train, y_train, epochs=20, batch_size=64, validation_data=(x_test,y_test))"
   ]
  },
  {
   "cell_type": "code",
   "execution_count": 345,
   "metadata": {},
   "outputs": [
    {
     "name": "stdout",
     "output_type": "stream",
     "text": [
      "[7 2 1 0 4 1 4 9 8 9 0 6 9 0 1 5 9 7 3 4]\n",
      "[7 2 1 0 4 1 4 9 5 9 0 6 9 0 1 5 9 7 3 4]\n",
      "\n",
      "Accurancy:  0.95\n"
     ]
    }
   ],
   "source": [
    "x_pred_test = x_test[:20]\n",
    "y_pred_label = y_test[:20]\n",
    "\n",
    "preds = model.predict(x_pred_test)\n",
    "\n",
    "pred = []\n",
    "for x in range(0,len(preds)):\n",
    "    maxIndex = np.argmax(preds[x])\n",
    "    pred.append(maxIndex)\n",
    "\n",
    "pred_label = []\n",
    "for x in range(0,len(y_pred_label)):\n",
    "    maxIndex = np.argmax(y_pred_label[x])\n",
    "    pred_label.append(maxIndex)\n",
    "\n",
    "arr_pred = np.array(pred)\n",
    "arr_pred_label = np.array(pred_label)\n",
    "print(arr_pred)\n",
    "print(arr_pred_label)\n",
    "print(\"\\nAccurancy: \",np.sum(arr_pred == arr_pred_label) / len(arr_pred))"
   ]
  },
  {
   "cell_type": "markdown",
   "metadata": {},
   "source": [
    "The above cell is to use the test data set to verify the caluclation of accurancy."
   ]
  },
  {
   "cell_type": "code",
   "execution_count": 344,
   "metadata": {},
   "outputs": [
    {
     "data": {
      "image/png": "[encoded data removed]",
      "text/plain": [
       "<matplotlib.figure.Figure at 0x1294e69e8>"
      ]
     },
     "metadata": {},
     "output_type": "display_data"
    },
    {
     "name": "stdout",
     "output_type": "stream",
     "text": [
      "[8 8 8 8 8 8 8 8 8 8 8 8 8 8 8 8 8 2 3 2]\n",
      "[1 7 3 7 2 6 1 8 9 0 1 7 7 9 8 3 5 4 4 9]\n",
      "\n",
      "Accurancy:  0.1\n"
     ]
    }
   ],
   "source": [
    "#https://stackoverflow.com/a/12201744/3628117\n",
    "#The img.convert('L') doesnot produce array with shape()\n",
    "def rgb2gray(rgb):\n",
    "    return np.dot(rgb[...,:3], [0.299, 0.587, 0.114])\n",
    "\n",
    "imgs = np.zeros(shape=(20,784))\n",
    "for x in range(1,21):\n",
    "    img = keras.preprocessing.image.load_img(path='./handwrite/{0}.png'.format(x), target_size=(28,28)) #Set target size with tuple\n",
    "    gray = rgb2gray(np.array(img)) #Conver the rgb file to greyscale\n",
    "    arr = np.array(gray)\n",
    "    arr = arr.astype('float32') / 255.0\n",
    "    arr = arr.reshape(-1, 28*28)\n",
    "    imgs[x-1] = arr\n",
    "\n",
    "plt.imshow(imgs[0].reshape(28,28), cmap = plt.get_cmap('gray'))\n",
    "plt.show()\n",
    "   \n",
    "labels = np.array([1,7,3,7,2,6,1,8,9,0,1,7,7,9,8,3,5,4,4,9])\n",
    "\n",
    "preds = model.predict(imgs)\n",
    "\n",
    "pred = []\n",
    "for x in range(0,len(preds)):\n",
    "    maxIndex = np.argmax(preds[x])\n",
    "    pred.append(maxIndex)\n",
    "\n",
    "arr_pred = np.array(pred)\n",
    "arr_pred_label = np.array(labels)\n",
    "print(arr_pred)\n",
    "print(arr_pred_label)\n",
    "print(\"\\nAccurancy: \",np.sum(arr_pred == arr_pred_label) / len(arr_pred))"
   ]
  },
  {
   "cell_type": "code",
   "execution_count": null,
   "metadata": {},
   "outputs": [],
   "source": [
    "labels = np.array([1,7,3,7,2,6,1,8,9,0,1,7,7,9,8,3,5,4,4,9])\n",
    "labels = np.array([1,2,3,4,5,6,7,8,9,0,1,2,3,4,5,6,7,8,9,0])\n",
    "\n",
    "plt.imshow(img, cmap=plt.cm.binary)\n",
    "plt.show()"
   ]
  }
 ],
 "metadata": {
  "kernelspec": {
   "display_name": "Python 3",
   "language": "python",
   "name": "python3"
  },
  "language_info": {
   "codemirror_mode": {
    "name": "ipython",
    "version": 3
   },
   "file_extension": ".py",
   "mimetype": "text/x-python",
   "name": "python",
   "nbconvert_exporter": "python",
   "pygments_lexer": "ipython3",
   "version": "3.5.1"
  }
 },
 "nbformat": 4,
 "nbformat_minor": 2
}
