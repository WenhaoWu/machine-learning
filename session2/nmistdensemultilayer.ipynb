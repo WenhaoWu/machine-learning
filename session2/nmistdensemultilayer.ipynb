{
 "cells": [
  {
   "cell_type": "code",
   "execution_count": 1,
   "metadata": {
    "scrolled": true
   },
   "outputs": [
    {
     "name": "stderr",
     "output_type": "stream",
     "text": [
      "Using TensorFlow backend.\n"
     ]
    },
    {
     "name": "stdout",
     "output_type": "stream",
     "text": [
      "2.1.3\n",
      "1.4.1\n"
     ]
    }
   ],
   "source": [
    "import numpy as np\n",
    "import keras\n",
    "import matplotlib.pyplot as plt\n",
    "import tensorflow as tf\n",
    "\n",
    "print(keras.__version__)\n",
    "print(tf.__version__)"
   ]
  },
  {
   "cell_type": "code",
   "execution_count": 2,
   "metadata": {},
   "outputs": [
    {
     "data": {
      "image/png": "[encoded data removed]",
      "text/plain": [
       "<matplotlib.figure.Figure at 0x11cf4d828>"
      ]
     },
     "metadata": {},
     "output_type": "display_data"
    },
    {
     "name": "stdout",
     "output_type": "stream",
     "text": [
      "4\n"
     ]
    }
   ],
   "source": [
    "from keras.datasets import mnist\n",
    "\n",
    "(x_train, y_train), (x_test, y_test) = mnist.load_data()\n",
    "\n",
    "img1 = x_train[314].reshape(-1, 28*28).astype('float32') / 255.0\n",
    "img1label = y_train[314]\n",
    "\n",
    "plt.imshow(img1.reshape(28,28), cmap=plt.cm.binary)\n",
    "plt.show()\n",
    "print(img1label)\n",
    "\n",
    "x_train = x_train.reshape(-1, 28 * 28).astype('float32') / 255.0\n",
    "x_test = x_test.reshape(-1, 28 * 28).astype('float32') / 255.0\n",
    "\n",
    "y_train = keras.utils.to_categorical(y_train)\n",
    "y_test = keras.utils.to_categorical(y_test)"
   ]
  },
  {
   "cell_type": "code",
   "execution_count": null,
   "metadata": {},
   "outputs": [
    {
     "name": "stdout",
     "output_type": "stream",
     "text": [
      "_________________________________________________________________\n",
      "Layer (type)                 Output Shape              Param #   \n",
      "=================================================================\n",
      "dense_1 (Dense)              (None, 100)               78500     \n",
      "_________________________________________________________________\n",
      "dense_2 (Dense)              (None, 50)                5050      \n",
      "_________________________________________________________________\n",
      "dense_3 (Dense)              (None, 50)                2550      \n",
      "_________________________________________________________________\n",
      "dense_4 (Dense)              (None, 25)                1275      \n",
      "_________________________________________________________________\n",
      "dense_5 (Dense)              (None, 25)                650       \n",
      "_________________________________________________________________\n",
      "dense_6 (Dense)              (None, 10)                260       \n",
      "=================================================================\n",
      "Total params: 88,285\n",
      "Trainable params: 88,285\n",
      "Non-trainable params: 0\n",
      "_________________________________________________________________\n"
     ]
    }
   ],
   "source": [
    "model = keras.models.Sequential()\n",
    "model.add(keras.layers.Dense(100, input_shape=(28 * 28,), activation='relu'))\n",
    "model.add(keras.layers.Dense(50, activation='relu'))\n",
    "model.add(keras.layers.Dense(50, activation='relu'))\n",
    "model.add(keras.layers.Dense(25, activation='relu'))\n",
    "model.add(keras.layers.Dense(25, activation='relu'))\n",
    "model.add(keras.layers.Dense(10, activation='softmax'))\n",
    "\n",
    "model.summary()"
   ]
  },
  {
   "cell_type": "code",
   "execution_count": null,
   "metadata": {},
   "outputs": [
    {
     "name": "stdout",
     "output_type": "stream",
     "text": [
      "Train on 60000 samples, validate on 10000 samples\n",
      "Epoch 1/60\n",
      "60000/60000 [==============================] - 4s 71us/step - loss: 1.5437 - acc: 0.4843 - val_loss: 0.7104 - val_acc: 0.7876\n",
      "Epoch 2/60\n",
      "60000/60000 [==============================] - 3s 56us/step - loss: 0.4943 - acc: 0.8556 - val_loss: 0.3604 - val_acc: 0.8938\n",
      "Epoch 3/60\n",
      "60000/60000 [==============================] - 3s 56us/step - loss: 0.3123 - acc: 0.9099 - val_loss: 0.2714 - val_acc: 0.9177\n",
      "Epoch 4/60\n",
      "60000/60000 [==============================] - 5s 75us/step - loss: 0.2452 - acc: 0.9282 - val_loss: 0.2472 - val_acc: 0.9256\n",
      "Epoch 5/60\n",
      "60000/60000 [==============================] - 3s 56us/step - loss: 0.2060 - acc: 0.9392 - val_loss: 0.2104 - val_acc: 0.9360\n",
      "Epoch 6/60\n",
      "60000/60000 [==============================] - 3s 56us/step - loss: 0.1794 - acc: 0.9474 - val_loss: 0.1717 - val_acc: 0.9497\n",
      "Epoch 7/60\n",
      "60000/60000 [==============================] - 3s 58us/step - loss: 0.1603 - acc: 0.9528 - val_loss: 0.1546 - val_acc: 0.9559\n",
      "Epoch 8/60\n",
      "60000/60000 [==============================] - 3s 54us/step - loss: 0.1441 - acc: 0.9580 - val_loss: 0.1508 - val_acc: 0.9543\n",
      "Epoch 9/60\n",
      "60000/60000 [==============================] - 3s 54us/step - loss: 0.1307 - acc: 0.9619 - val_loss: 0.1396 - val_acc: 0.9596\n",
      "Epoch 10/60\n",
      "60000/60000 [==============================] - 3s 54us/step - loss: 0.1204 - acc: 0.9645 - val_loss: 0.1307 - val_acc: 0.9608\n",
      "Epoch 11/60\n",
      "60000/60000 [==============================] - 3s 55us/step - loss: 0.1114 - acc: 0.9669 - val_loss: 0.1238 - val_acc: 0.9643\n",
      "Epoch 12/60\n",
      "60000/60000 [==============================] - 3s 54us/step - loss: 0.1027 - acc: 0.9694 - val_loss: 0.1221 - val_acc: 0.9631\n",
      "Epoch 13/60\n",
      "60000/60000 [==============================] - 3s 55us/step - loss: 0.0945 - acc: 0.9719 - val_loss: 0.1356 - val_acc: 0.9589\n",
      "Epoch 14/60\n",
      "60000/60000 [==============================] - 3s 56us/step - loss: 0.0893 - acc: 0.9731 - val_loss: 0.1117 - val_acc: 0.9658\n",
      "Epoch 15/60\n",
      "60000/60000 [==============================] - 3s 58us/step - loss: 0.0833 - acc: 0.9755 - val_loss: 0.1194 - val_acc: 0.9644\n",
      "Epoch 16/60\n",
      "60000/60000 [==============================] - 5s 75us/step - loss: 0.0779 - acc: 0.9762 - val_loss: 0.1122 - val_acc: 0.9654\n",
      "Epoch 17/60\n",
      "60000/60000 [==============================] - 4s 66us/step - loss: 0.0725 - acc: 0.9785 - val_loss: 0.1056 - val_acc: 0.9685\n",
      "Epoch 18/60\n",
      "60000/60000 [==============================] - 4s 68us/step - loss: 0.0686 - acc: 0.9796 - val_loss: 0.1090 - val_acc: 0.9657\n",
      "Epoch 19/60\n",
      "60000/60000 [==============================] - 5s 83us/step - loss: 0.0652 - acc: 0.9802 - val_loss: 0.1065 - val_acc: 0.9697\n",
      "Epoch 20/60\n",
      "60000/60000 [==============================] - 4s 61us/step - loss: 0.0600 - acc: 0.9822 - val_loss: 0.1178 - val_acc: 0.9646\n",
      "Epoch 21/60\n",
      "60000/60000 [==============================] - 4s 63us/step - loss: 0.0568 - acc: 0.9835 - val_loss: 0.1062 - val_acc: 0.9682\n",
      "Epoch 22/60\n",
      "60000/60000 [==============================] - 4s 63us/step - loss: 0.0533 - acc: 0.9838 - val_loss: 0.1014 - val_acc: 0.9708\n",
      "Epoch 23/60\n",
      "60000/60000 [==============================] - 4s 63us/step - loss: 0.0501 - acc: 0.9855 - val_loss: 0.1030 - val_acc: 0.9696\n",
      "Epoch 24/60\n",
      "60000/60000 [==============================] - 4s 65us/step - loss: 0.0471 - acc: 0.9857 - val_loss: 0.1215 - val_acc: 0.9661\n",
      "Epoch 25/60\n",
      "60000/60000 [==============================] - 5s 81us/step - loss: 0.0442 - acc: 0.9871 - val_loss: 0.1079 - val_acc: 0.9697\n",
      "Epoch 26/60\n",
      "60000/60000 [==============================] - 4s 63us/step - loss: 0.0419 - acc: 0.9880 - val_loss: 0.1073 - val_acc: 0.9693\n",
      "Epoch 27/60\n",
      "60000/60000 [==============================] - 5s 81us/step - loss: 0.0393 - acc: 0.9889 - val_loss: 0.0993 - val_acc: 0.9724\n",
      "Epoch 28/60\n",
      "60000/60000 [==============================] - 4s 61us/step - loss: 0.0365 - acc: 0.9896 - val_loss: 0.1059 - val_acc: 0.9701\n",
      "Epoch 29/60\n",
      "60000/60000 [==============================] - 4s 64us/step - loss: 0.0340 - acc: 0.9904 - val_loss: 0.1049 - val_acc: 0.9706\n",
      "Epoch 30/60\n",
      "60000/60000 [==============================] - 4s 65us/step - loss: 0.0324 - acc: 0.9906 - val_loss: 0.1494 - val_acc: 0.9614\n",
      "Epoch 31/60\n",
      "60000/60000 [==============================] - 4s 65us/step - loss: 0.0307 - acc: 0.9915 - val_loss: 0.1088 - val_acc: 0.9694\n",
      "Epoch 32/60\n",
      "60000/60000 [==============================] - 4s 67us/step - loss: 0.0289 - acc: 0.9915 - val_loss: 0.1039 - val_acc: 0.9704\n",
      "Epoch 33/60\n",
      "60000/60000 [==============================] - 4s 66us/step - loss: 0.0266 - acc: 0.9924 - val_loss: 0.1211 - val_acc: 0.9682\n",
      "Epoch 34/60\n",
      "60000/60000 [==============================] - 4s 68us/step - loss: 0.0250 - acc: 0.9930 - val_loss: 0.1308 - val_acc: 0.9668\n",
      "Epoch 35/60\n",
      "60000/60000 [==============================] - 4s 69us/step - loss: 0.0236 - acc: 0.9936 - val_loss: 0.1088 - val_acc: 0.9701\n",
      "Epoch 36/60\n",
      "60000/60000 [==============================] - 4s 73us/step - loss: 0.0217 - acc: 0.9945 - val_loss: 0.1116 - val_acc: 0.9686\n",
      "Epoch 37/60\n",
      "60000/60000 [==============================] - 4s 69us/step - loss: 0.0208 - acc: 0.9944 - val_loss: 0.1112 - val_acc: 0.9713\n",
      "Epoch 38/60\n",
      "60000/60000 [==============================] - 4s 63us/step - loss: 0.0197 - acc: 0.9947 - val_loss: 0.1108 - val_acc: 0.9709\n",
      "Epoch 39/60\n",
      "60000/60000 [==============================] - 4s 62us/step - loss: 0.0175 - acc: 0.9957 - val_loss: 0.1221 - val_acc: 0.9694\n",
      "Epoch 40/60\n",
      "60000/60000 [==============================] - 4s 62us/step - loss: 0.0172 - acc: 0.9952 - val_loss: 0.1156 - val_acc: 0.9696\n",
      "Epoch 41/60\n",
      "60000/60000 [==============================] - 4s 63us/step - loss: 0.0157 - acc: 0.9960 - val_loss: 0.1153 - val_acc: 0.9717\n",
      "Epoch 42/60\n",
      "60000/60000 [==============================] - 4s 62us/step - loss: 0.0142 - acc: 0.9968 - val_loss: 0.1257 - val_acc: 0.9693\n",
      "Epoch 43/60\n",
      "60000/60000 [==============================] - 4s 62us/step - loss: 0.0129 - acc: 0.9971 - val_loss: 0.1162 - val_acc: 0.9712\n",
      "Epoch 44/60\n",
      "60000/60000 [==============================] - 4s 64us/step - loss: 0.0118 - acc: 0.9975 - val_loss: 0.1173 - val_acc: 0.9708\n",
      "Epoch 45/60\n",
      "60000/60000 [==============================] - 4s 63us/step - loss: 0.0113 - acc: 0.9975 - val_loss: 0.1173 - val_acc: 0.9712\n",
      "Epoch 46/60\n",
      "60000/60000 [==============================] - 4s 64us/step - loss: 0.0103 - acc: 0.9978 - val_loss: 0.1333 - val_acc: 0.9674\n",
      "Epoch 47/60\n",
      "60000/60000 [==============================] - 4s 71us/step - loss: 0.0093 - acc: 0.9982 - val_loss: 0.1299 - val_acc: 0.9694\n",
      "Epoch 48/60\n",
      "60000/60000 [==============================] - 4s 62us/step - loss: 0.0090 - acc: 0.9983 - val_loss: 0.1230 - val_acc: 0.9706\n",
      "Epoch 49/60\n",
      "60000/60000 [==============================] - 4s 63us/step - loss: 0.0073 - acc: 0.9989 - val_loss: 0.1223 - val_acc: 0.9718\n",
      "Epoch 50/60\n",
      "60000/60000 [==============================] - 4s 63us/step - loss: 0.0068 - acc: 0.9989 - val_loss: 0.1482 - val_acc: 0.9669\n",
      "Epoch 51/60\n",
      "60000/60000 [==============================] - 4s 63us/step - loss: 0.0070 - acc: 0.9989 - val_loss: 0.1262 - val_acc: 0.9722\n",
      "Epoch 52/60\n",
      "60000/60000 [==============================] - 4s 63us/step - loss: 0.0062 - acc: 0.9992 - val_loss: 0.1333 - val_acc: 0.9703\n",
      "Epoch 53/60\n",
      "60000/60000 [==============================] - 4s 63us/step - loss: 0.0053 - acc: 0.9993 - val_loss: 0.1357 - val_acc: 0.9705\n",
      "Epoch 54/60\n",
      "60000/60000 [==============================] - 4s 63us/step - loss: 0.0056 - acc: 0.9992 - val_loss: 0.1308 - val_acc: 0.9712\n",
      "Epoch 55/60\n",
      "60000/60000 [==============================] - 4s 65us/step - loss: 0.0044 - acc: 0.9996 - val_loss: 0.1303 - val_acc: 0.9720\n",
      "Epoch 56/60\n",
      "60000/60000 [==============================] - 4s 64us/step - loss: 0.0050 - acc: 0.9991 - val_loss: 0.1343 - val_acc: 0.9706\n",
      "Epoch 57/60\n",
      "60000/60000 [==============================] - 4s 69us/step - loss: 0.0040 - acc: 0.9997 - val_loss: 0.1367 - val_acc: 0.9705\n",
      "Epoch 58/60\n",
      "60000/60000 [==============================] - 4s 70us/step - loss: 0.0035 - acc: 0.9997 - val_loss: 0.1355 - val_acc: 0.9718\n",
      "Epoch 59/60\n",
      "60000/60000 [==============================] - 4s 67us/step - loss: 0.0035 - acc: 0.9997 - val_loss: 0.1385 - val_acc: 0.9718\n",
      "Epoch 60/60\n"
     ]
    },
    {
     "name": "stdout",
     "output_type": "stream",
     "text": [
      "40960/60000 [===================>..........] - ETA: 1s - loss: 0.0035 - acc: 0.9997"
     ]
    }
   ],
   "source": [
    "model.compile(optimizer='sgd', loss='categorical_crossentropy', metrics=['acc'])\n",
    "\n",
    "hist = model.fit(x_train, y_train, epochs=60, batch_size=64, validation_data=(x_test,y_test))"
   ]
  },
  {
   "cell_type": "code",
   "execution_count": null,
   "metadata": {},
   "outputs": [],
   "source": [
    "acc = hist.history['acc']\n",
    "val_acc = hist.history['val_acc']\n",
    "loss = hist.history['loss']\n",
    "val_loss = hist.history['val_loss']\n",
    "epochs = range(1, len(acc) + 1)\n",
    "\n",
    "import matplotlib.pyplot as plt\n",
    "\n",
    "plt.plot(epochs, acc, 'bo', label='Training acc')\n",
    "plt.plot(epochs, val_acc, 'b', label='Validation acc')\n",
    "plt.title('Training and validation accuracy')\n",
    "plt.legend()\n",
    "\n",
    "plt.figure()\n",
    "plt.plot(epochs, loss, 'bo', label='Training loss')\n",
    "plt.plot(epochs, val_loss, 'b', label='Validation loss')\n",
    "plt.title('Training and validation loss')\n",
    "plt.legend()\n",
    "\n",
    "plt.show()"
   ]
  }
 ],
 "metadata": {
  "kernelspec": {
   "display_name": "Python 3",
   "language": "python",
   "name": "python3"
  },
  "language_info": {
   "codemirror_mode": {
    "name": "ipython",
    "version": 3
   },
   "file_extension": ".py",
   "mimetype": "text/x-python",
   "name": "python",
   "nbconvert_exporter": "python",
   "pygments_lexer": "ipython3",
   "version": "3.5.1"
  }
 },
 "nbformat": 4,
 "nbformat_minor": 2
}
