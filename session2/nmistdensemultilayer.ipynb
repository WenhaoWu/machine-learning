{
 "cells": [
  {
   "cell_type": "code",
   "execution_count": 1,
   "metadata": {
    "scrolled": true
   },
   "outputs": [
    {
     "name": "stderr",
     "output_type": "stream",
     "text": [
      "Using TensorFlow backend.\n",
      "/Users/wenhaowu/Desktop/machine-learning/tensorflow/lib/python3.6/importlib/_bootstrap.py:219: RuntimeWarning: compiletime version 3.5 of module 'tensorflow.python.framework.fast_tensor_util' does not match runtime version 3.6\n",
      "  return f(*args, **kwds)\n"
     ]
    },
    {
     "name": "stdout",
     "output_type": "stream",
     "text": [
      "2.1.3\n",
      "1.4.1\n"
     ]
    }
   ],
   "source": [
    "import numpy as np\n",
    "import keras\n",
    "import matplotlib.pyplot as plt\n",
    "import tensorflow as tf\n",
    "\n",
    "print(keras.__version__)\n",
    "print(tf.__version__)"
   ]
  },
  {
   "cell_type": "code",
   "execution_count": 2,
   "metadata": {},
   "outputs": [
    {
     "data": {
      "image/png": "[encoded data removed]",
      "text/plain": [
       "<matplotlib.figure.Figure at 0x11cfa3a90>"
      ]
     },
     "metadata": {},
     "output_type": "display_data"
    },
    {
     "name": "stdout",
     "output_type": "stream",
     "text": [
      "4\n"
     ]
    }
   ],
   "source": [
    "from keras.datasets import mnist\n",
    "\n",
    "(x_train, y_train), (x_test, y_test) = mnist.load_data()\n",
    "\n",
    "img1 = x_train[314].reshape(-1, 28*28).astype('float32') / 255.0\n",
    "img1label = y_train[314]\n",
    "\n",
    "plt.imshow(img1.reshape(28,28), cmap=plt.cm.binary)\n",
    "plt.show()\n",
    "print(img1label)\n",
    "\n",
    "x_train = x_train.reshape(-1, 28 * 28).astype('float32') / 255.0\n",
    "x_test = x_test.reshape(-1, 28 * 28).astype('float32') / 255.0\n",
    "\n",
    "y_train = keras.utils.to_categorical(y_train)\n",
    "y_test = keras.utils.to_categorical(y_test)"
   ]
  },
  {
   "cell_type": "code",
   "execution_count": 3,
   "metadata": {},
   "outputs": [
    {
     "name": "stdout",
     "output_type": "stream",
     "text": [
      "_________________________________________________________________\n",
      "Layer (type)                 Output Shape              Param #   \n",
      "=================================================================\n",
      "dense_1 (Dense)              (None, 100)               78500     \n",
      "_________________________________________________________________\n",
      "dense_2 (Dense)              (None, 50)                5050      \n",
      "_________________________________________________________________\n",
      "dense_3 (Dense)              (None, 50)                2550      \n",
      "_________________________________________________________________\n",
      "dense_4 (Dense)              (None, 25)                1275      \n",
      "_________________________________________________________________\n",
      "dense_5 (Dense)              (None, 25)                650       \n",
      "_________________________________________________________________\n",
      "dense_6 (Dense)              (None, 10)                260       \n",
      "=================================================================\n",
      "Total params: 88,285\n",
      "Trainable params: 88,285\n",
      "Non-trainable params: 0\n",
      "_________________________________________________________________\n"
     ]
    }
   ],
   "source": [
    "model = keras.models.Sequential()\n",
    "model.add(keras.layers.Dense(100, input_shape=(28 * 28,), activation='relu'))\n",
    "model.add(keras.layers.Dense(50, activation='relu'))\n",
    "model.add(keras.layers.Dense(50, activation='relu'))\n",
    "model.add(keras.layers.Dense(25, activation='relu'))\n",
    "model.add(keras.layers.Dense(25, activation='relu'))\n",
    "model.add(keras.layers.Dense(10, activation='softmax'))\n",
    "\n",
    "model.summary()"
   ]
  },
  {
   "cell_type": "code",
   "execution_count": 4,
   "metadata": {},
   "outputs": [
    {
     "name": "stdout",
     "output_type": "stream",
     "text": [
      "Train on 60000 samples, validate on 10000 samples\n",
      "Epoch 1/30\n",
      "60000/60000 [==============================] - 4s 72us/step - loss: 1.4255 - acc: 0.5175 - val_loss: 0.6264 - val_acc: 0.7962\n",
      "Epoch 2/30\n",
      "60000/60000 [==============================] - 3s 54us/step - loss: 0.4356 - acc: 0.8683 - val_loss: 0.3159 - val_acc: 0.9062\n",
      "Epoch 3/30\n",
      "60000/60000 [==============================] - 4s 64us/step - loss: 0.2953 - acc: 0.9113 - val_loss: 0.2549 - val_acc: 0.9233\n",
      "Epoch 4/30\n",
      "60000/60000 [==============================] - 4s 59us/step - loss: 0.2345 - acc: 0.9298 - val_loss: 0.2168 - val_acc: 0.9328\n",
      "Epoch 5/30\n",
      "60000/60000 [==============================] - 3s 54us/step - loss: 0.1954 - acc: 0.9417 - val_loss: 0.1955 - val_acc: 0.9404\n",
      "Epoch 6/30\n",
      "60000/60000 [==============================] - 3s 50us/step - loss: 0.1691 - acc: 0.9498 - val_loss: 0.1761 - val_acc: 0.9450\n",
      "Epoch 7/30\n",
      "60000/60000 [==============================] - 3s 55us/step - loss: 0.1494 - acc: 0.9555 - val_loss: 0.1595 - val_acc: 0.9518\n",
      "Epoch 8/30\n",
      "60000/60000 [==============================] - 3s 55us/step - loss: 0.1339 - acc: 0.9600 - val_loss: 0.1382 - val_acc: 0.9593\n",
      "Epoch 9/30\n",
      "60000/60000 [==============================] - 3s 51us/step - loss: 0.1229 - acc: 0.9637 - val_loss: 0.1358 - val_acc: 0.9590\n",
      "Epoch 10/30\n",
      "60000/60000 [==============================] - 3s 58us/step - loss: 0.1115 - acc: 0.9671 - val_loss: 0.1278 - val_acc: 0.9605\n",
      "Epoch 11/30\n",
      "60000/60000 [==============================] - 4s 66us/step - loss: 0.1034 - acc: 0.9697 - val_loss: 0.1405 - val_acc: 0.9595\n",
      "Epoch 12/30\n",
      "60000/60000 [==============================] - 4s 59us/step - loss: 0.0949 - acc: 0.9717 - val_loss: 0.1396 - val_acc: 0.9584\n",
      "Epoch 13/30\n",
      "60000/60000 [==============================] - 4s 61us/step - loss: 0.0895 - acc: 0.9736 - val_loss: 0.1135 - val_acc: 0.9650\n",
      "Epoch 14/30\n",
      "60000/60000 [==============================] - 4s 61us/step - loss: 0.0833 - acc: 0.9751 - val_loss: 0.1234 - val_acc: 0.9619\n",
      "Epoch 15/30\n",
      "60000/60000 [==============================] - 4s 67us/step - loss: 0.0773 - acc: 0.9774 - val_loss: 0.1117 - val_acc: 0.9677\n",
      "Epoch 16/30\n",
      "60000/60000 [==============================] - 4s 66us/step - loss: 0.0727 - acc: 0.9784 - val_loss: 0.1104 - val_acc: 0.9667\n",
      "Epoch 17/30\n",
      "60000/60000 [==============================] - 3s 55us/step - loss: 0.0679 - acc: 0.9796 - val_loss: 0.1119 - val_acc: 0.9672\n",
      "Epoch 18/30\n",
      "60000/60000 [==============================] - 3s 57us/step - loss: 0.0646 - acc: 0.9811 - val_loss: 0.1160 - val_acc: 0.9655\n",
      "Epoch 19/30\n",
      "60000/60000 [==============================] - 3s 58us/step - loss: 0.0600 - acc: 0.9820 - val_loss: 0.1036 - val_acc: 0.9701\n",
      "Epoch 20/30\n",
      "60000/60000 [==============================] - 4s 61us/step - loss: 0.0563 - acc: 0.9837 - val_loss: 0.1163 - val_acc: 0.9674\n",
      "Epoch 21/30\n",
      "60000/60000 [==============================] - 4s 60us/step - loss: 0.0523 - acc: 0.9848 - val_loss: 0.1028 - val_acc: 0.9702\n",
      "Epoch 22/30\n",
      "60000/60000 [==============================] - 3s 57us/step - loss: 0.0489 - acc: 0.9854 - val_loss: 0.1009 - val_acc: 0.9702\n",
      "Epoch 23/30\n",
      "60000/60000 [==============================] - 4s 59us/step - loss: 0.0463 - acc: 0.9860 - val_loss: 0.1064 - val_acc: 0.9692\n",
      "Epoch 24/30\n",
      "60000/60000 [==============================] - 3s 56us/step - loss: 0.0430 - acc: 0.9875 - val_loss: 0.1190 - val_acc: 0.9662\n",
      "Epoch 25/30\n",
      "60000/60000 [==============================] - 3s 58us/step - loss: 0.0404 - acc: 0.9880 - val_loss: 0.1068 - val_acc: 0.9695\n",
      "Epoch 26/30\n",
      "60000/60000 [==============================] - 4s 66us/step - loss: 0.0374 - acc: 0.9890 - val_loss: 0.1199 - val_acc: 0.9676\n",
      "Epoch 27/30\n",
      "60000/60000 [==============================] - 4s 66us/step - loss: 0.0348 - acc: 0.9899 - val_loss: 0.1086 - val_acc: 0.9697\n",
      "Epoch 28/30\n",
      "60000/60000 [==============================] - 3s 58us/step - loss: 0.0323 - acc: 0.9905 - val_loss: 0.1041 - val_acc: 0.9711\n",
      "Epoch 29/30\n",
      "60000/60000 [==============================] - 3s 56us/step - loss: 0.0304 - acc: 0.9911 - val_loss: 0.1162 - val_acc: 0.9682\n",
      "Epoch 30/30\n",
      "60000/60000 [==============================] - 4s 60us/step - loss: 0.0283 - acc: 0.9919 - val_loss: 0.1111 - val_acc: 0.9718\n"
     ]
    }
   ],
   "source": [
    "model.compile(optimizer='sgd', loss='categorical_crossentropy', metrics=['acc'])\n",
    "\n",
    "hist = model.fit(x_train, y_train, epochs=30, batch_size=64, validation_data=(x_test,y_test))"
   ]
  },
  {
   "cell_type": "code",
   "execution_count": 5,
   "metadata": {},
   "outputs": [
    {
     "data": {
      "image/png": "[encoded data removed]",
      "text/plain": [
       "<matplotlib.figure.Figure at 0x12c036d68>"
      ]
     },
     "metadata": {},
     "output_type": "display_data"
    },
    {
     "data": {
      "image/png": "[encoded data removed]",
      "text/plain": [
       "<matplotlib.figure.Figure at 0x12c354630>"
      ]
     },
     "metadata": {},
     "output_type": "display_data"
    }
   ],
   "source": [
    "acc = hist.history['acc']\n",
    "val_acc = hist.history['val_acc']\n",
    "loss = hist.history['loss']\n",
    "val_loss = hist.history['val_loss']\n",
    "epochs = range(1, len(acc) + 1)\n",
    "\n",
    "import matplotlib.pyplot as plt\n",
    "\n",
    "plt.plot(epochs, acc, 'bo', label='Training acc')\n",
    "plt.plot(epochs, val_acc, 'b', label='Validation acc')\n",
    "plt.title('Training and validation accuracy')\n",
    "plt.legend()\n",
    "\n",
    "plt.figure()\n",
    "plt.plot(epochs, loss, 'bo', label='Training loss')\n",
    "plt.plot(epochs, val_loss, 'b', label='Validation loss')\n",
    "plt.title('Training and validation loss')\n",
    "plt.legend()\n",
    "\n",
    "plt.show()"
   ]
  },
  {
   "cell_type": "code",
   "execution_count": null,
   "metadata": {},
   "outputs": [],
   "source": []
  }
 ],
 "metadata": {
  "kernelspec": {
   "display_name": "Python 3",
   "language": "python",
   "name": "python3"
  },
  "language_info": {
   "codemirror_mode": {
    "name": "ipython",
    "version": 3
   },
   "file_extension": ".py",
   "mimetype": "text/x-python",
   "name": "python",
   "nbconvert_exporter": "python",
   "pygments_lexer": "ipython3",
   "version": "3.6.4"
  }
 },
 "nbformat": 4,
 "nbformat_minor": 2
}
