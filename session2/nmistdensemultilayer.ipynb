{
 "cells": [
  {
   "cell_type": "code",
   "execution_count": 1,
   "metadata": {
    "scrolled": true
   },
   "outputs": [
    {
     "name": "stderr",
     "output_type": "stream",
     "text": [
      "Using TensorFlow backend.\n"
     ]
    },
    {
     "name": "stdout",
     "output_type": "stream",
     "text": [
      "2.1.3\n",
      "1.4.1\n"
     ]
    }
   ],
   "source": [
    "import numpy as np\n",
    "import keras\n",
    "import matplotlib.pyplot as plt\n",
    "import tensorflow as tf\n",
    "\n",
    "print(keras.__version__)\n",
    "print(tf.__version__)"
   ]
  },
  {
   "cell_type": "code",
   "execution_count": 2,
   "metadata": {},
   "outputs": [
    {
     "data": {
      "image/png": "[encoded data removed]",
      "text/plain": [
       "<matplotlib.figure.Figure at 0x7f7a16c64748>"
      ]
     },
     "metadata": {},
     "output_type": "display_data"
    },
    {
     "name": "stdout",
     "output_type": "stream",
     "text": [
      "4\n"
     ]
    }
   ],
   "source": [
    "from keras.datasets import mnist\n",
    "\n",
    "(x_train, y_train), (x_test, y_test) = mnist.load_data()\n",
    "\n",
    "img1 = x_train[314].reshape(-1, 28*28).astype('float32') / 255.0\n",
    "img1label = y_train[314]\n",
    "\n",
    "plt.imshow(img1.reshape(28,28), cmap=plt.cm.binary)\n",
    "plt.show()\n",
    "print(img1label)\n",
    "\n",
    "x_train = x_train.reshape(-1, 28 * 28).astype('float32') / 255.0\n",
    "x_test = x_test.reshape(-1, 28 * 28).astype('float32') / 255.0\n",
    "\n",
    "y_train = keras.utils.to_categorical(y_train)\n",
    "y_test = keras.utils.to_categorical(y_test)"
   ]
  },
  {
   "cell_type": "code",
   "execution_count": 3,
   "metadata": {},
   "outputs": [
    {
     "name": "stdout",
     "output_type": "stream",
     "text": [
      "_________________________________________________________________\n",
      "Layer (type)                 Output Shape              Param #   \n",
      "=================================================================\n",
      "dense_1 (Dense)              (None, 100)               78500     \n",
      "_________________________________________________________________\n",
      "dense_2 (Dense)              (None, 50)                5050      \n",
      "_________________________________________________________________\n",
      "dense_3 (Dense)              (None, 50)                2550      \n",
      "_________________________________________________________________\n",
      "dense_4 (Dense)              (None, 25)                1275      \n",
      "_________________________________________________________________\n",
      "dense_5 (Dense)              (None, 25)                650       \n",
      "_________________________________________________________________\n",
      "dense_6 (Dense)              (None, 10)                260       \n",
      "=================================================================\n",
      "Total params: 88,285\n",
      "Trainable params: 88,285\n",
      "Non-trainable params: 0\n",
      "_________________________________________________________________\n"
     ]
    }
   ],
   "source": [
    "model = keras.models.Sequential()\n",
    "model.add(keras.layers.Dense(100, input_shape=(28 * 28,), activation='relu'))\n",
    "model.add(keras.layers.Dense(50, activation='relu'))\n",
    "model.add(keras.layers.Dense(50, activation='relu'))\n",
    "model.add(keras.layers.Dense(25, activation='relu'))\n",
    "model.add(keras.layers.Dense(25, activation='relu'))\n",
    "model.add(keras.layers.Dense(10, activation='softmax'))\n",
    "\n",
    "model.summary()"
   ]
  },
  {
   "cell_type": "code",
   "execution_count": 4,
   "metadata": {},
   "outputs": [
    {
     "name": "stdout",
     "output_type": "stream",
     "text": [
      "Train on 60000 samples, validate on 10000 samples\n",
      "Epoch 1/30\n",
      "60000/60000 [==============================] - 3s 45us/step - loss: 1.3977 - acc: 0.5521 - val_loss: 0.5190 - val_acc: 0.8436\n",
      "Epoch 2/30\n",
      "60000/60000 [==============================] - 3s 45us/step - loss: 0.4377 - acc: 0.8681 - val_loss: 0.3661 - val_acc: 0.8884\n",
      "Epoch 3/30\n",
      "60000/60000 [==============================] - 3s 45us/step - loss: 0.3198 - acc: 0.9065 - val_loss: 0.2791 - val_acc: 0.9207\n",
      "Epoch 4/30\n",
      "60000/60000 [==============================] - 3s 52us/step - loss: 0.2562 - acc: 0.9258 - val_loss: 0.2268 - val_acc: 0.9343\n",
      "Epoch 5/30\n",
      "60000/60000 [==============================] - 3s 47us/step - loss: 0.2156 - acc: 0.9376 - val_loss: 0.2001 - val_acc: 0.9431\n",
      "Epoch 6/30\n",
      "60000/60000 [==============================] - 3s 51us/step - loss: 0.1848 - acc: 0.9462 - val_loss: 0.1759 - val_acc: 0.9505\n",
      "Epoch 7/30\n",
      "60000/60000 [==============================] - 3s 48us/step - loss: 0.1620 - acc: 0.9531 - val_loss: 0.1584 - val_acc: 0.9544\n",
      "Epoch 8/30\n",
      "60000/60000 [==============================] - 3s 50us/step - loss: 0.1438 - acc: 0.9585 - val_loss: 0.1482 - val_acc: 0.9573\n",
      "Epoch 9/30\n",
      "60000/60000 [==============================] - 3s 47us/step - loss: 0.1311 - acc: 0.9621 - val_loss: 0.1448 - val_acc: 0.9568\n",
      "Epoch 10/30\n",
      "60000/60000 [==============================] - 3s 48us/step - loss: 0.1190 - acc: 0.9651 - val_loss: 0.1707 - val_acc: 0.9472\n",
      "Epoch 11/30\n",
      "60000/60000 [==============================] - 3s 47us/step - loss: 0.1098 - acc: 0.9675 - val_loss: 0.1481 - val_acc: 0.9550\n",
      "Epoch 12/30\n",
      "60000/60000 [==============================] - 3s 47us/step - loss: 0.1012 - acc: 0.9704 - val_loss: 0.1215 - val_acc: 0.9643\n",
      "Epoch 13/30\n",
      "60000/60000 [==============================] - 3s 49us/step - loss: 0.0938 - acc: 0.9733 - val_loss: 0.1259 - val_acc: 0.9622\n",
      "Epoch 14/30\n",
      "60000/60000 [==============================] - 3s 48us/step - loss: 0.0872 - acc: 0.9748 - val_loss: 0.1205 - val_acc: 0.9638\n",
      "Epoch 15/30\n",
      "60000/60000 [==============================] - 3s 45us/step - loss: 0.0812 - acc: 0.9758 - val_loss: 0.1102 - val_acc: 0.9674\n",
      "Epoch 16/30\n",
      "60000/60000 [==============================] - 3s 47us/step - loss: 0.0760 - acc: 0.9780 - val_loss: 0.1142 - val_acc: 0.9664\n",
      "Epoch 17/30\n",
      "60000/60000 [==============================] - 3s 46us/step - loss: 0.0714 - acc: 0.9790 - val_loss: 0.1124 - val_acc: 0.9678\n",
      "Epoch 18/30\n",
      "60000/60000 [==============================] - 3s 47us/step - loss: 0.0667 - acc: 0.9806 - val_loss: 0.1074 - val_acc: 0.9672\n",
      "Epoch 19/30\n",
      "60000/60000 [==============================] - 3s 48us/step - loss: 0.0620 - acc: 0.9818 - val_loss: 0.1784 - val_acc: 0.9521\n",
      "Epoch 20/30\n",
      "60000/60000 [==============================] - 3s 48us/step - loss: 0.0587 - acc: 0.9826 - val_loss: 0.1150 - val_acc: 0.9663\n",
      "Epoch 21/30\n",
      "60000/60000 [==============================] - 3s 47us/step - loss: 0.0557 - acc: 0.9837 - val_loss: 0.1045 - val_acc: 0.9678\n",
      "Epoch 22/30\n",
      "60000/60000 [==============================] - 3s 48us/step - loss: 0.0519 - acc: 0.9855 - val_loss: 0.1098 - val_acc: 0.9676\n",
      "Epoch 23/30\n",
      "60000/60000 [==============================] - 3s 46us/step - loss: 0.0482 - acc: 0.9859 - val_loss: 0.1066 - val_acc: 0.9697\n",
      "Epoch 24/30\n",
      "60000/60000 [==============================] - 3s 47us/step - loss: 0.0462 - acc: 0.9864 - val_loss: 0.1358 - val_acc: 0.9618\n",
      "Epoch 25/30\n",
      "60000/60000 [==============================] - 3s 46us/step - loss: 0.0429 - acc: 0.9881 - val_loss: 0.1081 - val_acc: 0.9687\n",
      "Epoch 26/30\n",
      "60000/60000 [==============================] - 3s 49us/step - loss: 0.0398 - acc: 0.9889 - val_loss: 0.1152 - val_acc: 0.9664\n",
      "Epoch 27/30\n",
      "60000/60000 [==============================] - 3s 48us/step - loss: 0.0378 - acc: 0.9896 - val_loss: 0.1066 - val_acc: 0.9705\n",
      "Epoch 28/30\n",
      "60000/60000 [==============================] - 3s 46us/step - loss: 0.0350 - acc: 0.9904 - val_loss: 0.1206 - val_acc: 0.9683\n",
      "Epoch 29/30\n",
      "60000/60000 [==============================] - 3s 48us/step - loss: 0.0331 - acc: 0.9906 - val_loss: 0.2201 - val_acc: 0.9406\n",
      "Epoch 30/30\n",
      "60000/60000 [==============================] - 3s 52us/step - loss: 0.0311 - acc: 0.9913 - val_loss: 0.1131 - val_acc: 0.9680\n"
     ]
    }
   ],
   "source": [
    "model.compile(optimizer='sgd', loss='categorical_crossentropy', metrics=['acc'])\n",
    "\n",
    "hist = model.fit(x_train, y_train, epochs=30, batch_size=64, validation_data=(x_test,y_test))"
   ]
  },
  {
   "cell_type": "code",
   "execution_count": 5,
   "metadata": {},
   "outputs": [
    {
     "data": {
      "image/png": "[encoded data removed]",
      "text/plain": [
       "<matplotlib.figure.Figure at 0x7f7a14d9d470>"
      ]
     },
     "metadata": {},
     "output_type": "display_data"
    },
    {
     "data": {
      "image/png": "[encoded data removed]",
      "text/plain": [
       "<matplotlib.figure.Figure at 0x7f7a13a24da0>"
      ]
     },
     "metadata": {},
     "output_type": "display_data"
    }
   ],
   "source": [
    "acc = hist.history['acc']\n",
    "val_acc = hist.history['val_acc']\n",
    "loss = hist.history['loss']\n",
    "val_loss = hist.history['val_loss']\n",
    "epochs = range(1, len(acc) + 1)\n",
    "\n",
    "import matplotlib.pyplot as plt\n",
    "\n",
    "plt.plot(epochs, acc, 'bo', label='Training acc')\n",
    "plt.plot(epochs, val_acc, 'b', label='Validation acc')\n",
    "plt.title('Training and validation accuracy')\n",
    "plt.legend()\n",
    "\n",
    "plt.figure()\n",
    "plt.plot(epochs, loss, 'bo', label='Training loss')\n",
    "plt.plot(epochs, val_loss, 'b', label='Validation loss')\n",
    "plt.title('Training and validation loss')\n",
    "plt.legend()\n",
    "\n",
    "plt.show()"
   ]
  },
  {
   "cell_type": "code",
   "execution_count": null,
   "metadata": {},
   "outputs": [],
   "source": []
  }
 ],
 "metadata": {
  "kernelspec": {
   "display_name": "Python 3",
   "language": "python",
   "name": "python3"
  },
  "language_info": {
   "codemirror_mode": {
    "name": "ipython",
    "version": 3
   },
   "file_extension": ".py",
   "mimetype": "text/x-python",
   "name": "python",
   "nbconvert_exporter": "python",
   "pygments_lexer": "ipython3",
   "version": "3.5.2"
  }
 },
 "nbformat": 4,
 "nbformat_minor": 2
}
