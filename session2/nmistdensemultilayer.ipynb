{
 "cells": [
  {
   "cell_type": "code",
   "execution_count": 1,
   "metadata": {
    "scrolled": true
   },
   "outputs": [
    {
     "name": "stderr",
     "output_type": "stream",
     "text": [
      "Using TensorFlow backend.\n"
     ]
    },
    {
     "name": "stdout",
     "output_type": "stream",
     "text": [
      "2.1.3\n",
      "1.4.1\n"
     ]
    }
   ],
   "source": [
    "import numpy as np\n",
    "import keras\n",
    "import matplotlib.pyplot as plt\n",
    "import tensorflow as tf\n",
    "\n",
    "print(keras.__version__)\n",
    "print(tf.__version__)"
   ]
  },
  {
   "cell_type": "code",
   "execution_count": 2,
   "metadata": {},
   "outputs": [
    {
     "data": {
      "image/png": "[encoded data removed]",
      "text/plain": [
       "<matplotlib.figure.Figure at 0x10654ac88>"
      ]
     },
     "metadata": {},
     "output_type": "display_data"
    },
    {
     "name": "stdout",
     "output_type": "stream",
     "text": [
      "4\n"
     ]
    }
   ],
   "source": [
    "from keras.datasets import mnist\n",
    "\n",
    "(x_train, y_train), (x_test, y_test) = mnist.load_data()\n",
    "\n",
    "img1 = x_train[314].reshape(-1, 28*28).astype('float32') / 255.0\n",
    "img1label = y_train[314]\n",
    "\n",
    "plt.imshow(img1.reshape(28,28), cmap=plt.cm.binary)\n",
    "plt.show()\n",
    "print(img1label)\n",
    "\n",
    "x_train = x_train.reshape(-1, 28 * 28).astype('float32') / 255.0\n",
    "x_test = x_test.reshape(-1, 28 * 28).astype('float32') / 255.0\n",
    "\n",
    "y_train = keras.utils.to_categorical(y_train)\n",
    "y_test = keras.utils.to_categorical(y_test)"
   ]
  },
  {
   "cell_type": "code",
   "execution_count": 3,
   "metadata": {},
   "outputs": [
    {
     "name": "stdout",
     "output_type": "stream",
     "text": [
      "_________________________________________________________________\n",
      "Layer (type)                 Output Shape              Param #   \n",
      "=================================================================\n",
      "dense_1 (Dense)              (None, 100)               78500     \n",
      "_________________________________________________________________\n",
      "dense_2 (Dense)              (None, 50)                5050      \n",
      "_________________________________________________________________\n",
      "dense_3 (Dense)              (None, 50)                2550      \n",
      "_________________________________________________________________\n",
      "dense_4 (Dense)              (None, 25)                1275      \n",
      "_________________________________________________________________\n",
      "dense_5 (Dense)              (None, 25)                650       \n",
      "_________________________________________________________________\n",
      "dense_6 (Dense)              (None, 10)                260       \n",
      "=================================================================\n",
      "Total params: 88,285\n",
      "Trainable params: 88,285\n",
      "Non-trainable params: 0\n",
      "_________________________________________________________________\n"
     ]
    }
   ],
   "source": [
    "model = keras.models.Sequential()\n",
    "model.add(keras.layers.Dense(100, input_shape=(28 * 28,), activation='relu'))\n",
    "model.add(keras.layers.Dense(50, activation='relu'))\n",
    "model.add(keras.layers.Dense(50, activation='relu'))\n",
    "model.add(keras.layers.Dense(25, activation='relu'))\n",
    "model.add(keras.layers.Dense(25, activation='relu'))\n",
    "model.add(keras.layers.Dense(10, activation='softmax'))\n",
    "\n",
    "model.summary()"
   ]
  },
  {
   "cell_type": "code",
   "execution_count": 4,
   "metadata": {},
   "outputs": [
    {
     "name": "stdout",
     "output_type": "stream",
     "text": [
      "Train on 60000 samples, validate on 10000 samples\n",
      "Epoch 1/30\n",
      "60000/60000 [==============================] - 4s 67us/step - loss: 1.4883 - acc: 0.5368 - val_loss: 0.5398 - val_acc: 0.8307\n",
      "Epoch 2/30\n",
      "60000/60000 [==============================] - 3s 54us/step - loss: 0.3995 - acc: 0.8807 - val_loss: 0.3312 - val_acc: 0.9024\n",
      "Epoch 3/30\n",
      "60000/60000 [==============================] - 3s 55us/step - loss: 0.2904 - acc: 0.9146 - val_loss: 0.2458 - val_acc: 0.9276\n",
      "Epoch 4/30\n",
      "60000/60000 [==============================] - 3s 55us/step - loss: 0.2360 - acc: 0.9302 - val_loss: 0.2066 - val_acc: 0.9389\n",
      "Epoch 5/30\n",
      "60000/60000 [==============================] - 3s 55us/step - loss: 0.1992 - acc: 0.9416 - val_loss: 0.1867 - val_acc: 0.9450\n",
      "Epoch 6/30\n",
      "60000/60000 [==============================] - 3s 56us/step - loss: 0.1726 - acc: 0.9497 - val_loss: 0.1906 - val_acc: 0.9444\n",
      "Epoch 7/30\n",
      "60000/60000 [==============================] - 3s 57us/step - loss: 0.1527 - acc: 0.9555 - val_loss: 0.1668 - val_acc: 0.9473\n",
      "Epoch 8/30\n",
      "60000/60000 [==============================] - 4s 60us/step - loss: 0.1365 - acc: 0.9602 - val_loss: 0.1496 - val_acc: 0.9537\n",
      "Epoch 9/30\n",
      "60000/60000 [==============================] - 4s 60us/step - loss: 0.1244 - acc: 0.9636 - val_loss: 0.1559 - val_acc: 0.9527\n",
      "Epoch 10/30\n",
      "60000/60000 [==============================] - 4s 60us/step - loss: 0.1141 - acc: 0.9668 - val_loss: 0.1395 - val_acc: 0.9573\n",
      "Epoch 11/30\n",
      "60000/60000 [==============================] - 4s 61us/step - loss: 0.1046 - acc: 0.9698 - val_loss: 0.1158 - val_acc: 0.9641\n",
      "Epoch 12/30\n",
      "60000/60000 [==============================] - 4s 63us/step - loss: 0.0964 - acc: 0.9726 - val_loss: 0.1167 - val_acc: 0.9653\n",
      "Epoch 13/30\n",
      "60000/60000 [==============================] - 4s 62us/step - loss: 0.0900 - acc: 0.9739 - val_loss: 0.1109 - val_acc: 0.9638\n",
      "Epoch 14/30\n",
      "60000/60000 [==============================] - 4s 62us/step - loss: 0.0843 - acc: 0.9755 - val_loss: 0.1182 - val_acc: 0.9624\n",
      "Epoch 15/30\n",
      "60000/60000 [==============================] - 4s 62us/step - loss: 0.0787 - acc: 0.9770 - val_loss: 0.1094 - val_acc: 0.9655\n",
      "Epoch 16/30\n",
      "60000/60000 [==============================] - 4s 62us/step - loss: 0.0745 - acc: 0.9779 - val_loss: 0.1081 - val_acc: 0.9658\n",
      "Epoch 17/30\n",
      "60000/60000 [==============================] - 4s 62us/step - loss: 0.0698 - acc: 0.9799 - val_loss: 0.1042 - val_acc: 0.9675\n",
      "Epoch 18/30\n",
      "60000/60000 [==============================] - 4s 62us/step - loss: 0.0654 - acc: 0.9808 - val_loss: 0.1178 - val_acc: 0.9623\n",
      "Epoch 19/30\n",
      "60000/60000 [==============================] - 4s 63us/step - loss: 0.0622 - acc: 0.9817 - val_loss: 0.1041 - val_acc: 0.9671\n",
      "Epoch 20/30\n",
      "60000/60000 [==============================] - 4s 63us/step - loss: 0.0573 - acc: 0.9830 - val_loss: 0.1160 - val_acc: 0.9632\n",
      "Epoch 21/30\n",
      "60000/60000 [==============================] - 4s 64us/step - loss: 0.0548 - acc: 0.9838 - val_loss: 0.0994 - val_acc: 0.9698\n",
      "Epoch 22/30\n",
      "60000/60000 [==============================] - 4s 62us/step - loss: 0.0513 - acc: 0.9848 - val_loss: 0.1047 - val_acc: 0.9685\n",
      "Epoch 23/30\n",
      "60000/60000 [==============================] - 4s 67us/step - loss: 0.0483 - acc: 0.9861 - val_loss: 0.1038 - val_acc: 0.9672\n",
      "Epoch 24/30\n",
      "60000/60000 [==============================] - 4s 64us/step - loss: 0.0454 - acc: 0.9868 - val_loss: 0.1048 - val_acc: 0.9667\n",
      "Epoch 25/30\n",
      "60000/60000 [==============================] - 4s 67us/step - loss: 0.0435 - acc: 0.9869 - val_loss: 0.1019 - val_acc: 0.9704\n",
      "Epoch 26/30\n",
      "60000/60000 [==============================] - 4s 63us/step - loss: 0.0405 - acc: 0.9881 - val_loss: 0.1165 - val_acc: 0.9682\n",
      "Epoch 27/30\n",
      "60000/60000 [==============================] - 4s 64us/step - loss: 0.0379 - acc: 0.9887 - val_loss: 0.1015 - val_acc: 0.9703\n",
      "Epoch 28/30\n",
      "60000/60000 [==============================] - 4s 63us/step - loss: 0.0348 - acc: 0.9897 - val_loss: 0.1078 - val_acc: 0.9680\n",
      "Epoch 29/30\n",
      "60000/60000 [==============================] - 4s 65us/step - loss: 0.0333 - acc: 0.9900 - val_loss: 0.1099 - val_acc: 0.9689\n",
      "Epoch 30/30\n",
      "60000/60000 [==============================] - 4s 65us/step - loss: 0.0315 - acc: 0.9913 - val_loss: 0.1062 - val_acc: 0.9699\n"
     ]
    }
   ],
   "source": [
    "model.compile(optimizer='sgd', loss='categorical_crossentropy', metrics=['acc'])\n",
    "\n",
    "hist = model.fit(x_train, y_train, epochs=30, batch_size=64, validation_data=(x_test,y_test))"
   ]
  },
  {
   "cell_type": "code",
   "execution_count": 5,
   "metadata": {},
   "outputs": [
    {
     "data": {
      "image/png": "[encoded data removed]",
      "text/plain": [
       "<matplotlib.figure.Figure at 0x12b81ab38>"
      ]
     },
     "metadata": {},
     "output_type": "display_data"
    },
    {
     "data": {
      "image/png": "[encoded data removed]",
      "text/plain": [
       "<matplotlib.figure.Figure at 0x12bcb1860>"
      ]
     },
     "metadata": {},
     "output_type": "display_data"
    }
   ],
   "source": [
    "acc = hist.history['acc']\n",
    "val_acc = hist.history['val_acc']\n",
    "loss = hist.history['loss']\n",
    "val_loss = hist.history['val_loss']\n",
    "epochs = range(1, len(acc) + 1)\n",
    "\n",
    "import matplotlib.pyplot as plt\n",
    "\n",
    "plt.plot(epochs, acc, 'bo', label='Training acc')\n",
    "plt.plot(epochs, val_acc, 'b', label='Validation acc')\n",
    "plt.title('Training and validation accuracy')\n",
    "plt.legend()\n",
    "\n",
    "plt.figure()\n",
    "plt.plot(epochs, loss, 'bo', label='Training loss')\n",
    "plt.plot(epochs, val_loss, 'b', label='Validation loss')\n",
    "plt.title('Training and validation loss')\n",
    "plt.legend()\n",
    "\n",
    "plt.show()"
   ]
  },
  {
   "cell_type": "code",
   "execution_count": null,
   "metadata": {},
   "outputs": [],
   "source": []
  }
 ],
 "metadata": {
  "kernelspec": {
   "display_name": "Python 3",
   "language": "python",
   "name": "python3"
  },
  "language_info": {
   "codemirror_mode": {
    "name": "ipython",
    "version": 3
   },
   "file_extension": ".py",
   "mimetype": "text/x-python",
   "name": "python",
   "nbconvert_exporter": "python",
   "pygments_lexer": "ipython3",
   "version": "3.5.1"
  }
 },
 "nbformat": 4,
 "nbformat_minor": 2
}
