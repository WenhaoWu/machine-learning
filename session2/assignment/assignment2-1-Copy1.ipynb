{
 "cells": [
  {
   "cell_type": "markdown",
   "metadata": {},
   "source": [
    "Name: Wenhao Wu\n",
    "\n",
    "Student ID: 1304952"
   ]
  },
  {
   "cell_type": "code",
   "execution_count": 13,
   "metadata": {
    "scrolled": true
   },
   "outputs": [],
   "source": [
    "import numpy as np\n",
    "import keras\n",
    "from keras.preprocessing import image\n",
    "import matplotlib.pyplot as plt\n",
    "import tensorflow as tf\n"
   ]
  },
  {
   "cell_type": "code",
   "execution_count": 14,
   "metadata": {},
   "outputs": [],
   "source": [
    "from keras.datasets import mnist\n",
    "\n",
    "(x_train, y_train), (x_test, y_test) = mnist.load_data()\n",
    "\n",
    "x_train = x_train.reshape(-1, 28 * 28).astype('float32') / 255.0\n",
    "x_test = x_test.reshape(-1, 28 * 28).astype('float32') / 255.0\n",
    "\n",
    "y_train = keras.utils.to_categorical(y_train)\n",
    "y_test = keras.utils.to_categorical(y_test)"
   ]
  },
  {
   "cell_type": "code",
   "execution_count": 15,
   "metadata": {},
   "outputs": [
    {
     "name": "stdout",
     "output_type": "stream",
     "text": [
      "_________________________________________________________________\n",
      "Layer (type)                 Output Shape              Param #   \n",
      "=================================================================\n",
      "dense_7 (Dense)              (None, 100)               78500     \n",
      "_________________________________________________________________\n",
      "dense_8 (Dense)              (None, 50)                5050      \n",
      "_________________________________________________________________\n",
      "dense_9 (Dense)              (None, 50)                2550      \n",
      "_________________________________________________________________\n",
      "dense_10 (Dense)             (None, 25)                1275      \n",
      "_________________________________________________________________\n",
      "dense_11 (Dense)             (None, 25)                650       \n",
      "_________________________________________________________________\n",
      "dense_12 (Dense)             (None, 10)                260       \n",
      "=================================================================\n",
      "Total params: 88,285\n",
      "Trainable params: 88,285\n",
      "Non-trainable params: 0\n",
      "_________________________________________________________________\n"
     ]
    }
   ],
   "source": [
    "model = keras.models.Sequential()\n",
    "model.add(keras.layers.Dense(100, input_shape=(28 * 28,), activation='relu'))\n",
    "model.add(keras.layers.Dense(50, activation='relu'))\n",
    "model.add(keras.layers.Dense(50, activation='relu'))\n",
    "model.add(keras.layers.Dense(25, activation='relu'))\n",
    "model.add(keras.layers.Dense(25, activation='relu'))\n",
    "model.add(keras.layers.Dense(10, activation='softmax'))\n",
    "\n",
    "model.summary()"
   ]
  },
  {
   "cell_type": "code",
   "execution_count": 16,
   "metadata": {},
   "outputs": [
    {
     "name": "stdout",
     "output_type": "stream",
     "text": [
      "Train on 60000 samples, validate on 10000 samples\n",
      "Epoch 1/20\n",
      "60000/60000 [==============================] - 3s 48us/step - loss: 1.6111 - acc: 0.4838 - val_loss: 0.6179 - val_acc: 0.8170\n",
      "Epoch 2/20\n",
      "60000/60000 [==============================] - 3s 46us/step - loss: 0.4677 - acc: 0.8632 - val_loss: 0.4215 - val_acc: 0.8609\n",
      "Epoch 3/20\n",
      "60000/60000 [==============================] - 3s 46us/step - loss: 0.3171 - acc: 0.9087 - val_loss: 0.3459 - val_acc: 0.8937\n",
      "Epoch 4/20\n",
      "60000/60000 [==============================] - 3s 49us/step - loss: 0.2472 - acc: 0.9283 - val_loss: 0.2176 - val_acc: 0.9388\n",
      "Epoch 5/20\n",
      "60000/60000 [==============================] - 3s 45us/step - loss: 0.2039 - acc: 0.9406 - val_loss: 0.2009 - val_acc: 0.9417\n",
      "Epoch 6/20\n",
      "60000/60000 [==============================] - 3s 50us/step - loss: 0.1758 - acc: 0.9485 - val_loss: 0.1671 - val_acc: 0.9519\n",
      "Epoch 7/20\n",
      "60000/60000 [==============================] - 3s 51us/step - loss: 0.1546 - acc: 0.9545 - val_loss: 0.1528 - val_acc: 0.9562\n",
      "Epoch 8/20\n",
      "60000/60000 [==============================] - 3s 51us/step - loss: 0.1383 - acc: 0.9593 - val_loss: 0.1433 - val_acc: 0.9610\n",
      "Epoch 9/20\n",
      "60000/60000 [==============================] - 3s 47us/step - loss: 0.1243 - acc: 0.9639 - val_loss: 0.1344 - val_acc: 0.9611\n",
      "Epoch 10/20\n",
      "60000/60000 [==============================] - 3s 48us/step - loss: 0.1137 - acc: 0.9670 - val_loss: 0.1377 - val_acc: 0.9596\n",
      "Epoch 11/20\n",
      "60000/60000 [==============================] - 3s 47us/step - loss: 0.1039 - acc: 0.9695 - val_loss: 0.1225 - val_acc: 0.9631\n",
      "Epoch 12/20\n",
      "60000/60000 [==============================] - 3s 48us/step - loss: 0.0962 - acc: 0.9723 - val_loss: 0.1218 - val_acc: 0.9657\n",
      "Epoch 13/20\n",
      "60000/60000 [==============================] - 3s 47us/step - loss: 0.0883 - acc: 0.9741 - val_loss: 0.1175 - val_acc: 0.9659\n",
      "Epoch 14/20\n",
      "60000/60000 [==============================] - 3s 48us/step - loss: 0.0827 - acc: 0.9756 - val_loss: 0.1126 - val_acc: 0.9671\n",
      "Epoch 15/20\n",
      "60000/60000 [==============================] - 3s 47us/step - loss: 0.0773 - acc: 0.9774 - val_loss: 0.1119 - val_acc: 0.9672\n",
      "Epoch 16/20\n",
      "60000/60000 [==============================] - 3s 49us/step - loss: 0.0721 - acc: 0.9793 - val_loss: 0.1191 - val_acc: 0.9657\n",
      "Epoch 17/20\n",
      "60000/60000 [==============================] - 3s 50us/step - loss: 0.0676 - acc: 0.9802 - val_loss: 0.1155 - val_acc: 0.9640\n",
      "Epoch 18/20\n",
      "60000/60000 [==============================] - 3s 47us/step - loss: 0.0635 - acc: 0.9818 - val_loss: 0.1103 - val_acc: 0.9685\n",
      "Epoch 19/20\n",
      "60000/60000 [==============================] - 4s 60us/step - loss: 0.0600 - acc: 0.9826 - val_loss: 0.1033 - val_acc: 0.9707\n",
      "Epoch 20/20\n",
      "60000/60000 [==============================] - 3s 47us/step - loss: 0.0563 - acc: 0.9835 - val_loss: 0.1241 - val_acc: 0.9655\n"
     ]
    }
   ],
   "source": [
    "model.compile(optimizer='sgd', loss='categorical_crossentropy', metrics=['acc'])\n",
    "\n",
    "hist = model.fit(x_train, y_train, epochs=20, batch_size=64, validation_data=(x_test,y_test))"
   ]
  },
  {
   "cell_type": "code",
   "execution_count": 17,
   "metadata": {},
   "outputs": [
    {
     "data": {
      "image/png": "[encoded data removed]",
      "text/plain": [
       "<matplotlib.figure.Figure at 0x7f59fc1cc7f0>"
      ]
     },
     "metadata": {},
     "output_type": "display_data"
    },
    {
     "name": "stdout",
     "output_type": "stream",
     "text": [
      "[7 2 1 0 4 1 4 9 5 9 0 6 9 0 1 5 9 7 3 4]\n",
      "[7 2 1 0 4 1 4 9 5 9 0 6 9 0 1 5 9 7 3 4]\n",
      "\n",
      "Accurancy:  1.0\n"
     ]
    }
   ],
   "source": [
    "#Take first 20 elements of the test set and label set\n",
    "x_pred_test = x_test[:20]\n",
    "y_pred_label = y_test[:20]\n",
    "\n",
    "#Draw the first one\n",
    "plt.imshow(x_pred_test[0].reshape(28,28), cmap=plt.cm.binary)\n",
    "plt.show()\n",
    "\n",
    "preds = model.predict(x_pred_test)\n",
    "\n",
    "pred = []\n",
    "for x in range(0,len(preds)):\n",
    "    maxIndex = np.argmax(preds[x])#Take the index of the max element of prediction array\n",
    "    pred.append(maxIndex)\n",
    "\n",
    "label = []\n",
    "for x in range(0,len(y_pred_label)):\n",
    "    maxIndex = np.argmax(y_pred_label[x])#Take the index of the max element of the label array\n",
    "    label.append(maxIndex)\n",
    "\n",
    "arr_pred = np.array(pred)\n",
    "arr_label = np.array(label)\n",
    "print(arr_pred)\n",
    "print(arr_label)\n",
    "print(\"\\nAccurancy: \",np.sum(arr_pred == arr_label) / len(arr_pred))"
   ]
  },
  {
   "cell_type": "markdown",
   "metadata": {},
   "source": [
    "The above cell is to use the test data set to verify the caluclation of accurancy."
   ]
  },
  {
   "cell_type": "code",
   "execution_count": 18,
   "metadata": {},
   "outputs": [
    {
     "data": {
      "image/png": "[encoded data removed]",
      "text/plain": [
       "<matplotlib.figure.Figure at 0x7f59fc1b3d30>"
      ]
     },
     "metadata": {},
     "output_type": "display_data"
    },
    {
     "data": {
      "image/png": "[encoded data removed]",
      "text/plain": [
       "<matplotlib.figure.Figure at 0x7f59fc141f60>"
      ]
     },
     "metadata": {},
     "output_type": "display_data"
    },
    {
     "name": "stdout",
     "output_type": "stream",
     "text": [
      "[4 7 8 8 4 5 8 8 8 0 1 8 7 9 8 3 5 8 8 8]\n",
      "[1 7 3 7 2 6 1 8 9 0 1 7 7 9 8 3 5 4 4 9]\n",
      "\n",
      "Accurancy:  0.45\n"
     ]
    }
   ],
   "source": [
    "imgs = np.zeros(shape=(20,784))\n",
    "for x in range(1,21):\n",
    "    img = keras.preprocessing.image.load_img(path='./handwrite/{0}.png'.format(x),\n",
    "                                             grayscale=True,\n",
    "                                             target_size=(28,28)) #Set target size with tuple\n",
    "    arr = np.array(img)\n",
    "    arr = arr.astype('float32') / 255.0\n",
    "    arr = arr.reshape(-1, 28*28)\n",
    "    arr = np.absolute((arr - 1)) #Invert the color, eg [1, 0.6, ....] => [0, 0.4, ...]\n",
    "    imgs[x-1] = arr\n",
    "        \n",
    "name = 4\n",
    "\n",
    "plt.imshow(keras.preprocessing.image.load_img(path='./handwrite/{0}.png'.format(name), target_size=(28,28)) , cmap=plt.cm.binary)\n",
    "plt.title('Orignal Image')\n",
    "plt.show()\n",
    "        \n",
    "plt.imshow(imgs[name-1].reshape(28,28), cmap=plt.cm.binary)\n",
    "plt.title('After Precessing Image')\n",
    "plt.show()\n",
    "   \n",
    "labels = np.array([1,7,3,7,2,6,1,8,9,0,1,7,7,9,8,3,5,4,4,9])\n",
    "\n",
    "preds = model.predict(imgs)\n",
    "\n",
    "pred = []\n",
    "for x in range(0,len(preds)):\n",
    "    maxIndex = np.argmax(preds[x])\n",
    "    pred.append(maxIndex)\n",
    "\n",
    "arr_pred = np.array(pred)\n",
    "arr_label = np.array(labels)\n",
    "print(arr_pred)\n",
    "print(arr_label)\n",
    "print(\"\\nAccurancy: \",np.sum(arr_pred == arr_label) / len(arr_label))"
   ]
  },
  {
   "cell_type": "markdown",
   "metadata": {},
   "source": [
    "The accurancy is bad, not even being half of the declared percentages. There must be something missing during the preprocessing of the images. Or it is because the hand-write image is low-pixelfied during the recording. Another thought is because the digit is not black enough."
   ]
  },
  {
   "cell_type": "code",
   "execution_count": 19,
   "metadata": {},
   "outputs": [
    {
     "data": {
      "image/png": "[encoded data removed]",
      "text/plain": [
       "<matplotlib.figure.Figure at 0x7f59fc12a198>"
      ]
     },
     "metadata": {},
     "output_type": "display_data"
    },
    {
     "data": {
      "image/png": "[encoded data removed]",
      "text/plain": [
       "<matplotlib.figure.Figure at 0x7f59fc0a9fd0>"
      ]
     },
     "metadata": {},
     "output_type": "display_data"
    },
    {
     "name": "stdout",
     "output_type": "stream",
     "text": [
      "[5 4 1 8 8 8 3 8 5 5 8 4 8 5 9 9 8 4 8 3]\n",
      "[1 2 3 4 5 6 7 8 9 0 1 2 3 4 5 6 7 8 9 0]\n",
      "\n",
      "Accurancy:  0.05\n"
     ]
    }
   ],
   "source": [
    "#https://stackoverflow.com/a/12201744/3628117\n",
    "#The img.convert('L') doesnot produce array with shape(28,28)\n",
    "def rgb2gray(rgb):\n",
    "    return np.dot(rgb[...,:3], [0.299, 0.587, 0.114])\n",
    "\n",
    "imgs = np.zeros(shape=(20,784))\n",
    "for x in range(1,21):\n",
    "    img = keras.preprocessing.image.load_img(path='./handwrite2/{0}.png'.format(x), target_size=(28,28)) #Set target size with tuple\n",
    "    gray = rgb2gray(np.array(img)) #Conver the rgb file to greyscale\n",
    "    arr = np.array(gray)\n",
    "    arr = arr.astype('float32') / 255.0\n",
    "    arr = arr.reshape(-1, 28*28)\n",
    "    arr = np.absolute((arr - 1)) #Invert the color, eg [1, 0.6, ....] => [0, 0.4, ...]\n",
    "    imgs[x-1] = arr\n",
    "        \n",
    "name = 4\n",
    "\n",
    "plt.imshow(keras.preprocessing.image.load_img(path='./handwrite2/{0}.png'.format(name), target_size=(28,28)) , cmap=plt.cm.binary)\n",
    "plt.title('Orignal Image')\n",
    "plt.show()\n",
    "        \n",
    "plt.imshow(imgs[name-1].reshape(28,28), cmap=plt.cm.binary)\n",
    "plt.title('After Precessing Image')\n",
    "plt.show()\n",
    "   \n",
    "labels = np.array([1,2,3,4,5,6,7,8,9,0,1,2,3,4,5,6,7,8,9,0])\n",
    "\n",
    "preds = model.predict(imgs)\n",
    "\n",
    "pred = []\n",
    "for x in range(0,len(preds)):\n",
    "    maxIndex = np.argmax(preds[x])\n",
    "    pred.append(maxIndex)\n",
    "\n",
    "arr_pred = np.array(pred)\n",
    "arr_label = np.array(labels)\n",
    "print(arr_pred)\n",
    "print(arr_label)\n",
    "print(\"\\nAccurancy: \",np.sum(arr_pred == arr_label) / len(arr_label))"
   ]
  },
  {
   "cell_type": "markdown",
   "metadata": {},
   "source": [
    "An even more low pixelfied set of hand write digits, the prediction accurancy drops even more..."
   ]
  },
  {
   "cell_type": "code",
   "execution_count": 20,
   "metadata": {},
   "outputs": [
    {
     "data": {
      "image/png": "[encoded data removed]",
      "text/plain": [
       "<matplotlib.figure.Figure at 0x7f5a0a77ad30>"
      ]
     },
     "metadata": {},
     "output_type": "display_data"
    },
    {
     "data": {
      "image/png": "[encoded data removed]",
      "text/plain": [
       "<matplotlib.figure.Figure at 0x7f59fc097eb8>"
      ]
     },
     "metadata": {},
     "output_type": "display_data"
    },
    {
     "name": "stdout",
     "output_type": "stream",
     "text": [
      "[1 3 2 8 5 8 7 3 2 0 8 2 2 9 8 6 8 5 1 4]\n",
      "[1 2 3 4 5 6 7 8 9 0 1 2 3 4 5 6 7 8 9 0]\n",
      "\n",
      "Accurancy:  0.3\n"
     ]
    }
   ],
   "source": [
    "#https://stackoverflow.com/a/12201744/3628117\n",
    "#The img.convert('L') doesnot produce array with shape(28,28)\n",
    "def rgb2gray(rgb):\n",
    "    return np.dot(rgb[...,:3], [0.299, 0.587, 0.114])\n",
    "\n",
    "imgs = np.zeros(shape=(20,784))\n",
    "for x in range(1,21):\n",
    "    img = keras.preprocessing.image.load_img(path='./handwrite3/{0}.jpg'.format(x), target_size=(28,28)) #Set target size with tuple\n",
    "    gray = rgb2gray(np.array(img)) #Conver the rgb file to greyscale\n",
    "    arr = np.array(gray)\n",
    "    arr = arr.astype('float32') / 255.0\n",
    "    arr = arr.reshape(-1, 28*28)\n",
    "    arr = np.absolute((arr - 1)) #Invert the color, eg [1, 0.6, ....] => [0, 0.4, ...]\n",
    "    imgs[x-1] = arr\n",
    "        \n",
    "name = 4\n",
    "\n",
    "plt.imshow(keras.preprocessing.image.load_img(path='./handwrite3/{0}.jpg'.format(name), target_size=(28,28)) , cmap=plt.cm.binary)\n",
    "plt.title('Orignal Image')\n",
    "plt.show()\n",
    "        \n",
    "plt.imshow(imgs[name-1].reshape(28,28), cmap=plt.cm.binary)\n",
    "plt.title('After Precessing Image')\n",
    "plt.show()\n",
    "   \n",
    "labels = np.array([1,2,3,4,5,6,7,8,9,0,1,2,3,4,5,6,7,8,9,0])\n",
    "\n",
    "preds = model.predict(imgs)\n",
    "\n",
    "pred = []\n",
    "for x in range(0,len(preds)):\n",
    "    maxIndex = np.argmax(preds[x])\n",
    "    pred.append(maxIndex)\n",
    "\n",
    "arr_pred = np.array(pred)\n",
    "arr_label = np.array(labels)\n",
    "print(arr_pred)\n",
    "print(arr_label)\n",
    "print(\"\\nAccurancy: \",np.sum(arr_pred == arr_label) / len(arr_label))"
   ]
  },
  {
   "cell_type": "code",
   "execution_count": null,
   "metadata": {},
   "outputs": [],
   "source": []
  }
 ],
 "metadata": {
  "kernelspec": {
   "display_name": "Python 3",
   "language": "python",
   "name": "python3"
  },
  "language_info": {
   "codemirror_mode": {
    "name": "ipython",
    "version": 3
   },
   "file_extension": ".py",
   "mimetype": "text/x-python",
   "name": "python",
   "nbconvert_exporter": "python",
   "pygments_lexer": "ipython3",
   "version": "3.5.2"
  }
 },
 "nbformat": 4,
 "nbformat_minor": 2
}
