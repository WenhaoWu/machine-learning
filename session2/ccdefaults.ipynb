{
 "cells": [
  {
   "cell_type": "code",
   "execution_count": 9,
   "metadata": {},
   "outputs": [],
   "source": [
    "import numpy as np\n",
    "import keras"
   ]
  },
  {
   "cell_type": "code",
   "execution_count": 10,
   "metadata": {},
   "outputs": [],
   "source": [
    "data = np.loadtxt(\"ccdefaults.csv\", delimiter=';')\n",
    "np.random.shuffle(data)"
   ]
  },
  {
   "cell_type": "code",
   "execution_count": 11,
   "metadata": {},
   "outputs": [
    {
     "name": "stdout",
     "output_type": "stream",
     "text": [
      "(30000, 25)\n"
     ]
    }
   ],
   "source": [
    "print(data.shape)"
   ]
  },
  {
   "cell_type": "code",
   "execution_count": 12,
   "metadata": {},
   "outputs": [],
   "source": [
    "n_training = 28000\n",
    "\n",
    "x_train = data[:n_training,0:24]\n",
    "y_train = data[:n_training,24]\n",
    "\n",
    "x_val = data[n_training:,0:24]\n",
    "y_val = data[n_training:,24]\n",
    "\n",
    "mean = np.mean(x_train, axis=0)\n",
    "std = np.std(x_train, axis=0)\n",
    "\n",
    "x_train -= mean\n",
    "x_train /= std\n",
    "\n",
    "x_val -= mean\n",
    "x_val /= std"
   ]
  },
  {
   "cell_type": "code",
   "execution_count": 13,
   "metadata": {},
   "outputs": [],
   "source": [
    "model = keras.models.Sequential()\n",
    "model.add(keras.layers.Dense(1, input_shape=(24,), activation='sigmoid'))\n",
    "\n",
    "model.compile(loss='binary_crossentropy', optimizer='sgd', metrics=['acc'])"
   ]
  },
  {
   "cell_type": "code",
   "execution_count": 14,
   "metadata": {},
   "outputs": [
    {
     "name": "stdout",
     "output_type": "stream",
     "text": [
      "Train on 28000 samples, validate on 2000 samples\n",
      "Epoch 1/20\n",
      "28000/28000 [==============================] - 1s 29us/step - loss: 0.6186 - acc: 0.6844 - val_loss: 0.5306 - val_acc: 0.7760\n",
      "Epoch 2/20\n",
      "28000/28000 [==============================] - 1s 22us/step - loss: 0.5047 - acc: 0.7965 - val_loss: 0.4859 - val_acc: 0.8045\n",
      "Epoch 3/20\n",
      "28000/28000 [==============================] - 1s 24us/step - loss: 0.4797 - acc: 0.8031 - val_loss: 0.4731 - val_acc: 0.8100\n",
      "Epoch 4/20\n",
      "28000/28000 [==============================] - 1s 24us/step - loss: 0.4718 - acc: 0.8038 - val_loss: 0.4685 - val_acc: 0.8160\n",
      "Epoch 5/20\n",
      "28000/28000 [==============================] - 1s 24us/step - loss: 0.4687 - acc: 0.8057 - val_loss: 0.4661 - val_acc: 0.8105\n",
      "Epoch 6/20\n",
      "28000/28000 [==============================] - 1s 25us/step - loss: 0.4673 - acc: 0.8065 - val_loss: 0.4651 - val_acc: 0.8140\n",
      "Epoch 7/20\n",
      "28000/28000 [==============================] - 1s 25us/step - loss: 0.4666 - acc: 0.8071 - val_loss: 0.4645 - val_acc: 0.8150\n",
      "Epoch 8/20\n",
      "28000/28000 [==============================] - 1s 24us/step - loss: 0.4662 - acc: 0.8073 - val_loss: 0.4642 - val_acc: 0.8165\n",
      "Epoch 9/20\n",
      "28000/28000 [==============================] - 1s 37us/step - loss: 0.4659 - acc: 0.8075 - val_loss: 0.4639 - val_acc: 0.8170\n",
      "Epoch 10/20\n",
      "28000/28000 [==============================] - 1s 28us/step - loss: 0.4658 - acc: 0.8085 - val_loss: 0.4638 - val_acc: 0.8180\n",
      "Epoch 11/20\n",
      "28000/28000 [==============================] - 1s 26us/step - loss: 0.4657 - acc: 0.8092 - val_loss: 0.4636 - val_acc: 0.8190\n",
      "Epoch 12/20\n",
      "28000/28000 [==============================] - 1s 27us/step - loss: 0.4656 - acc: 0.8097 - val_loss: 0.4635 - val_acc: 0.8150\n",
      "Epoch 13/20\n",
      "28000/28000 [==============================] - 1s 29us/step - loss: 0.4655 - acc: 0.8086 - val_loss: 0.4635 - val_acc: 0.8180\n",
      "Epoch 14/20\n",
      "28000/28000 [==============================] - 1s 42us/step - loss: 0.4654 - acc: 0.8086 - val_loss: 0.4636 - val_acc: 0.8175\n",
      "Epoch 15/20\n",
      "28000/28000 [==============================] - 1s 28us/step - loss: 0.4655 - acc: 0.8098 - val_loss: 0.4634 - val_acc: 0.8175\n",
      "Epoch 16/20\n",
      "28000/28000 [==============================] - 1s 27us/step - loss: 0.4654 - acc: 0.8096 - val_loss: 0.4634 - val_acc: 0.8175\n",
      "Epoch 17/20\n",
      "28000/28000 [==============================] - 1s 30us/step - loss: 0.4654 - acc: 0.8097 - val_loss: 0.4634 - val_acc: 0.8165\n",
      "Epoch 18/20\n",
      "28000/28000 [==============================] - 1s 29us/step - loss: 0.4654 - acc: 0.8090 - val_loss: 0.4634 - val_acc: 0.8195\n",
      "Epoch 19/20\n",
      "28000/28000 [==============================] - 1s 36us/step - loss: 0.4653 - acc: 0.8098 - val_loss: 0.4633 - val_acc: 0.8170\n",
      "Epoch 20/20\n",
      "28000/28000 [==============================] - 1s 29us/step - loss: 0.4653 - acc: 0.8094 - val_loss: 0.4635 - val_acc: 0.8185\n"
     ]
    },
    {
     "data": {
      "image/png": "[encoded data removed]",
      "text/plain": [
       "<matplotlib.figure.Figure at 0x11ff579b0>"
      ]
     },
     "metadata": {},
     "output_type": "display_data"
    },
    {
     "data": {
      "image/png": "[encoded data removed]",
      "text/plain": [
       "<matplotlib.figure.Figure at 0x11da83be0>"
      ]
     },
     "metadata": {},
     "output_type": "display_data"
    }
   ],
   "source": [
    "hist = model.fit(x_train, y_train, epochs=20, batch_size=64, validation_data=(x_val, y_val))\n",
    "\n",
    "acc = hist.history['acc']\n",
    "val_acc = hist.history['val_acc']\n",
    "loss = hist.history['loss']\n",
    "val_loss = hist.history['val_loss']\n",
    "epochs = range(1, len(acc) + 1)\n",
    "\n",
    "import matplotlib.pyplot as plt\n",
    "\n",
    "plt.plot(epochs, acc, 'bo', label='Training acc')\n",
    "plt.plot(epochs, val_acc, 'b', label='Validation acc')\n",
    "plt.title('Training and validation accuracy')\n",
    "plt.legend()\n",
    "\n",
    "plt.figure()\n",
    "plt.plot(epochs, loss, 'bo', label='Training loss')\n",
    "plt.plot(epochs, val_loss, 'b', label='Validation loss')\n",
    "plt.title('Training and validation loss')\n",
    "plt.legend()\n",
    "\n",
    "plt.show()"
   ]
  },
  {
   "cell_type": "code",
   "execution_count": 15,
   "metadata": {},
   "outputs": [
    {
     "name": "stdout",
     "output_type": "stream",
     "text": [
      "[[0.07310089]]\n"
     ]
    }
   ],
   "source": [
    "print(model.predict(x_val[3].reshape(-1,24)))"
   ]
  },
  {
   "cell_type": "code",
   "execution_count": null,
   "metadata": {},
   "outputs": [],
   "source": []
  }
 ],
 "metadata": {
  "kernelspec": {
   "display_name": "Python 3",
   "language": "python",
   "name": "python3"
  },
  "language_info": {
   "codemirror_mode": {
    "name": "ipython",
    "version": 3
   },
   "file_extension": ".py",
   "mimetype": "text/x-python",
   "name": "python",
   "nbconvert_exporter": "python",
   "pygments_lexer": "ipython3",
   "version": "3.5.1"
  }
 },
 "nbformat": 4,
 "nbformat_minor": 2
}
