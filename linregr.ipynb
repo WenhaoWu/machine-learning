{
 "cells": [
  {
   "cell_type": "code",
   "execution_count": 1,
   "metadata": {},
   "outputs": [
    {
     "name": "stderr",
     "output_type": "stream",
     "text": [
      "Using TensorFlow backend.\n"
     ]
    }
   ],
   "source": [
    "import numpy as np\n",
    "import keras"
   ]
  },
  {
   "cell_type": "code",
   "execution_count": 9,
   "metadata": {},
   "outputs": [
    {
     "name": "stdout",
     "output_type": "stream",
     "text": [
      "(2000, 1)\n"
     ]
    }
   ],
   "source": [
    "x = np.random.rand(2000,1) * 1.0\n",
    "y = 4 * (x  + (0.2 - np.random.rand(2000,1) * 0.4)) + 3\n",
    "\n",
    "liny = 4 * x + 3\n",
    "\n",
    "print(x.shape)"
   ]
  },
  {
   "cell_type": "code",
   "execution_count": 10,
   "metadata": {},
   "outputs": [
    {
     "data": {
      "image/png": "[encoded data removed]",
      "text/plain": [
       "<matplotlib.figure.Figure at 0x126fce470>"
      ]
     },
     "metadata": {},
     "output_type": "display_data"
    }
   ],
   "source": [
    "import matplotlib.pyplot as plt\n",
    "\n",
    "plt.plot(x, y, 'bo')\n",
    "plt.plot(x, liny, 'r')\n",
    "plt.xlabel('x')\n",
    "plt.ylabel('y')\n",
    "plt.show()"
   ]
  },
  {
   "cell_type": "code",
   "execution_count": 11,
   "metadata": {},
   "outputs": [
    {
     "name": "stdout",
     "output_type": "stream",
     "text": [
      "_________________________________________________________________\n",
      "Layer (type)                 Output Shape              Param #   \n",
      "=================================================================\n",
      "dense_1 (Dense)              (None, 1)                 2         \n",
      "=================================================================\n",
      "Total params: 2\n",
      "Trainable params: 2\n",
      "Non-trainable params: 0\n",
      "_________________________________________________________________\n",
      "Epoch 1/30\n",
      "2000/2000 [==============================] - 0s 192us/step - loss: 3.3736 - mean_squared_error: 3.3736\n",
      "Epoch 2/30\n",
      "2000/2000 [==============================] - 0s 70us/step - loss: 0.2617 - mean_squared_error: 0.2617\n",
      "Epoch 3/30\n",
      "2000/2000 [==============================] - 0s 70us/step - loss: 0.2439 - mean_squared_error: 0.2439\n",
      "Epoch 4/30\n",
      "2000/2000 [==============================] - 0s 76us/step - loss: 0.2348 - mean_squared_error: 0.2348\n",
      "Epoch 5/30\n",
      "2000/2000 [==============================] - 0s 73us/step - loss: 0.2281 - mean_squared_error: 0.2281\n",
      "Epoch 6/30\n",
      "2000/2000 [==============================] - 0s 73us/step - loss: 0.2235 - mean_squared_error: 0.2235\n",
      "Epoch 7/30\n",
      "2000/2000 [==============================] - 0s 93us/step - loss: 0.2201 - mean_squared_error: 0.2201\n",
      "Epoch 8/30\n",
      "2000/2000 [==============================] - 0s 73us/step - loss: 0.2176 - mean_squared_error: 0.2176\n",
      "Epoch 9/30\n",
      "2000/2000 [==============================] - 0s 70us/step - loss: 0.2159 - mean_squared_error: 0.2159\n",
      "Epoch 10/30\n",
      "2000/2000 [==============================] - 0s 71us/step - loss: 0.2144 - mean_squared_error: 0.2144\n",
      "Epoch 11/30\n",
      "2000/2000 [==============================] - 0s 88us/step - loss: 0.2140 - mean_squared_error: 0.2140\n",
      "Epoch 12/30\n",
      "2000/2000 [==============================] - 0s 86us/step - loss: 0.2132 - mean_squared_error: 0.2132\n",
      "Epoch 13/30\n",
      "2000/2000 [==============================] - 0s 69us/step - loss: 0.2127 - mean_squared_error: 0.2127\n",
      "Epoch 14/30\n",
      "2000/2000 [==============================] - 0s 74us/step - loss: 0.2124 - mean_squared_error: 0.2124\n",
      "Epoch 15/30\n",
      "2000/2000 [==============================] - 0s 115us/step - loss: 0.2123 - mean_squared_error: 0.2123\n",
      "Epoch 16/30\n",
      "2000/2000 [==============================] - 0s 95us/step - loss: 0.2120 - mean_squared_error: 0.2120\n",
      "Epoch 17/30\n",
      "2000/2000 [==============================] - 0s 75us/step - loss: 0.2117 - mean_squared_error: 0.2117\n",
      "Epoch 18/30\n",
      "2000/2000 [==============================] - 0s 76us/step - loss: 0.2114 - mean_squared_error: 0.2114\n",
      "Epoch 19/30\n",
      "2000/2000 [==============================] - 0s 113us/step - loss: 0.2118 - mean_squared_error: 0.2118\n",
      "Epoch 20/30\n",
      "2000/2000 [==============================] - 0s 134us/step - loss: 0.2117 - mean_squared_error: 0.2117\n",
      "Epoch 21/30\n",
      "2000/2000 [==============================] - 0s 124us/step - loss: 0.2117 - mean_squared_error: 0.2117\n",
      "Epoch 22/30\n",
      "2000/2000 [==============================] - 0s 72us/step - loss: 0.2116 - mean_squared_error: 0.2116\n",
      "Epoch 23/30\n",
      "2000/2000 [==============================] - 0s 81us/step - loss: 0.2118 - mean_squared_error: 0.2118\n",
      "Epoch 24/30\n",
      "2000/2000 [==============================] - 0s 74us/step - loss: 0.2117 - mean_squared_error: 0.2117\n",
      "Epoch 25/30\n",
      "2000/2000 [==============================] - 0s 92us/step - loss: 0.2116 - mean_squared_error: 0.2116\n",
      "Epoch 26/30\n",
      "2000/2000 [==============================] - 0s 77us/step - loss: 0.2117 - mean_squared_error: 0.2117\n",
      "Epoch 27/30\n",
      "2000/2000 [==============================] - 0s 74us/step - loss: 0.2116 - mean_squared_error: 0.2116\n",
      "Epoch 28/30\n",
      "2000/2000 [==============================] - 0s 74us/step - loss: 0.2116 - mean_squared_error: 0.2116\n",
      "Epoch 29/30\n",
      "2000/2000 [==============================] - 0s 69us/step - loss: 0.2116 - mean_squared_error: 0.2116\n",
      "Epoch 30/30\n",
      "2000/2000 [==============================] - 0s 75us/step - loss: 0.2116 - mean_squared_error: 0.2116\n"
     ]
    }
   ],
   "source": [
    "import keras\n",
    "\n",
    "model = keras.models.Sequential()\n",
    "model.add(keras.layers.Dense(1, input_shape=(1,)))\n",
    "model.summary()\n",
    "\n",
    "model.compile(optimizer='sgd', loss='mse', metrics=['mse'])\n",
    "hist = model.fit(x, y, epochs=30, batch_size=16)"
   ]
  },
  {
   "cell_type": "code",
   "execution_count": 12,
   "metadata": {},
   "outputs": [
    {
     "data": {
      "text/plain": [
       "[array([[3.9899254]], dtype=float32), array([2.997923], dtype=float32)]"
      ]
     },
     "execution_count": 12,
     "metadata": {},
     "output_type": "execute_result"
    }
   ],
   "source": [
    "model.get_weights()"
   ]
  },
  {
   "cell_type": "code",
   "execution_count": 13,
   "metadata": {},
   "outputs": [],
   "source": [
    "p = model.predict(np.array([3]))"
   ]
  },
  {
   "cell_type": "code",
   "execution_count": 14,
   "metadata": {},
   "outputs": [
    {
     "name": "stdout",
     "output_type": "stream",
     "text": [
      "[[14.967699]]\n"
     ]
    }
   ],
   "source": [
    "print(p)"
   ]
  },
  {
   "cell_type": "code",
   "execution_count": null,
   "metadata": {
    "collapsed": true
   },
   "outputs": [],
   "source": []
  }
 ],
 "metadata": {
  "kernelspec": {
   "display_name": "Python 3",
   "language": "python",
   "name": "python3"
  },
  "language_info": {
   "codemirror_mode": {
    "name": "ipython",
    "version": 3
   },
   "file_extension": ".py",
   "mimetype": "text/x-python",
   "name": "python",
   "nbconvert_exporter": "python",
   "pygments_lexer": "ipython3",
   "version": "3.5.1"
  }
 },
 "nbformat": 4,
 "nbformat_minor": 2
}
