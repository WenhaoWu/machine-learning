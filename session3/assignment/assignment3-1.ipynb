{
 "cells": [
  {
   "cell_type": "markdown",
   "metadata": {},
   "source": [
    "Name: Wenhao Wu\n",
    "\n",
    "ID: 1304952"
   ]
  },
  {
   "cell_type": "code",
   "execution_count": 44,
   "metadata": {},
   "outputs": [],
   "source": [
    "#ref https://livebook.manning.com/#!/book/deep-learning-with-python/chapter-3/316\n",
    "\n",
    "import numpy as np\n",
    "import keras\n",
    "import matplotlib.pyplot as plt"
   ]
  },
  {
   "cell_type": "code",
   "execution_count": 45,
   "metadata": {},
   "outputs": [],
   "source": [
    "from keras.datasets import boston_housing\n",
    "\n",
    "(train_data, train_targets), (test_data, test_targets) = boston_housing.load_data()\n",
    "\n",
    "mean = np.mean(train_data, axis=0)\n",
    "std = np.std(train_targets, axis=0)\n",
    "\n",
    "train_data -= mean\n",
    "train_data /= (2*std)\n",
    "\n",
    "test_data -= mean\n",
    "test_data /= (2*std)"
   ]
  },
  {
   "cell_type": "markdown",
   "metadata": {},
   "source": [
    "The above cell is to normalize the input, we should somehow shuffle the data first."
   ]
  },
  {
   "cell_type": "code",
   "execution_count": 46,
   "metadata": {},
   "outputs": [],
   "source": [
    "from keras import models\n",
    "from keras import layers\n",
    "\n",
    "def build_model():\n",
    "    model = models.Sequential()\n",
    "    model.add(layers.Dense(64, activation='relu', input_shape=(train_data.shape[1],)))\n",
    "    model.add(layers.Dense(64, activation='relu'))\n",
    "    model.add(layers.Dense(1))\n",
    "    model.compile(optimizer='rmsprop', loss='mse', metrics=['mae'])\n",
    "    return model"
   ]
  },
  {
   "cell_type": "markdown",
   "metadata": {},
   "source": [
    "We define a method to init the model, since in k-fold validation we need to init a clean model multiple times"
   ]
  },
  {
   "cell_type": "code",
   "execution_count": 47,
   "metadata": {},
   "outputs": [
    {
     "name": "stdout",
     "output_type": "stream",
     "text": [
      "processing fold # 0\n",
      "processing fold # 1\n",
      "processing fold # 2\n",
      "processing fold # 3\n",
      "Training Done\n"
     ]
    }
   ],
   "source": [
    "k = 4\n",
    "num_val_samples = len(train_data) // k\n",
    "num_epochs = 100\n",
    "all_scores = []\n",
    "for i in range(k):\n",
    "    print('processing fold #',i)\n",
    "    \n",
    "    begin = i * num_val_samples\n",
    "    end = (i+1) * num_val_samples\n",
    " \n",
    "    vd = train_data[begin: end]\n",
    "    vt = train_targets[begin: end]\n",
    "        \n",
    "    ptd = np.concatenate([train_data[:begin], train_data[end:]], axis=0)\n",
    "    ptt = np.concatenate([train_targets[:begin], train_targets[end:]], axis=0)\n",
    "    \n",
    "    model = build_model()\n",
    "    model.fit(ptd, ptt, epochs=num_epochs, batch_size=1, verbose=0)\n",
    "    val_mse, val_mae = model.evaluate(vd, vt, verbose=0)\n",
    "    all_scores.append(val_mae)\n",
    "\n",
    "print(\"Training Done\")"
   ]
  },
  {
   "cell_type": "code",
   "execution_count": 48,
   "metadata": {},
   "outputs": [
    {
     "name": "stdout",
     "output_type": "stream",
     "text": [
      "2.4990354192138895\n"
     ]
    }
   ],
   "source": [
    "print(np.mean(all_scores))"
   ]
  },
  {
   "cell_type": "code",
   "execution_count": 49,
   "metadata": {},
   "outputs": [
    {
     "name": "stdout",
     "output_type": "stream",
     "text": [
      "2.9497352768393124\n"
     ]
    }
   ],
   "source": [
    "model_normal = build_model()\n",
    "hist = model_normal.fit(train_data, train_targets, epochs=100, batch_size = 1, verbose=0)\n",
    "\n",
    "val_mse, val_mae = model_normal.evaluate(test_data, test_targets, verbose=0)\n",
    "\n",
    "print(val_mae)\n"
   ]
  },
  {
   "cell_type": "markdown",
   "metadata": {},
   "source": [
    "The above cell uses a normal approach to train the model and the mean absolute error raises to **2.94** compares to **2.49** in the k-fold approach.   "
   ]
  },
  {
   "cell_type": "code",
   "execution_count": null,
   "metadata": {},
   "outputs": [],
   "source": []
  }
 ],
 "metadata": {
  "kernelspec": {
   "display_name": "Python 3",
   "language": "python",
   "name": "python3"
  },
  "language_info": {
   "codemirror_mode": {
    "name": "ipython",
    "version": 3
   },
   "file_extension": ".py",
   "mimetype": "text/x-python",
   "name": "python",
   "nbconvert_exporter": "python",
   "pygments_lexer": "ipython3",
   "version": "3.6.4"
  }
 },
 "nbformat": 4,
 "nbformat_minor": 2
}
