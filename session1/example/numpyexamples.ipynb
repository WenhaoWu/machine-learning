{
 "cells": [
  {
   "cell_type": "code",
   "execution_count": 2,
   "metadata": {},
   "outputs": [],
   "source": [
    "import numpy as np"
   ]
  },
  {
   "cell_type": "code",
   "execution_count": 9,
   "metadata": {},
   "outputs": [],
   "source": [
    "a = np.arange(0, 10)\n",
    "b = np.arange(0, 20, 2)"
   ]
  },
  {
   "cell_type": "code",
   "execution_count": 10,
   "metadata": {},
   "outputs": [
    {
     "name": "stdout",
     "output_type": "stream",
     "text": [
      "[0 1 2 3 4 5 6 7 8 9]\n",
      "[ 0  2  4  6  8 10 12 14 16 18]\n",
      "[ 0  3  6  9 12 15 18 21 24 27]\n"
     ]
    }
   ],
   "source": [
    "print(a)\n",
    "print(b)\n",
    "print(a+b)"
   ]
  },
  {
   "cell_type": "code",
   "execution_count": 6,
   "metadata": {},
   "outputs": [
    {
     "name": "stdout",
     "output_type": "stream",
     "text": [
      "[[0 1 2 3 4]\n",
      " [5 6 7 8 9]]\n",
      "[[ 0  2  4  6  8]\n",
      " [10 12 14 16 18]]\n",
      "[[  0   2   8  18  32]\n",
      " [ 50  72  98 128 162]]\n"
     ]
    }
   ],
   "source": [
    "a = a.reshape(2,5)\n",
    "b = b.reshape(2,5)\n",
    "print(a)\n",
    "print(b)\n",
    "print(a*b)"
   ]
  },
  {
   "cell_type": "code",
   "execution_count": 52,
   "metadata": {},
   "outputs": [
    {
     "name": "stdout",
     "output_type": "stream",
     "text": [
      "8\n",
      "[0 1 2 3 4]\n",
      "[ 0 10]\n",
      "[5 6 7 8 9]\n"
     ]
    }
   ],
   "source": [
    "print(a[1,3])\n",
    "print(a[0,:])\n",
    "print(b[:,0])\n",
    "print(a[-1])"
   ]
  },
  {
   "cell_type": "code",
   "execution_count": 51,
   "metadata": {},
   "outputs": [
    {
     "name": "stdout",
     "output_type": "stream",
     "text": [
      "[[[ 5  8 36 24]\n",
      "  [38 36  9  7]\n",
      "  [37 30  4  4]\n",
      "  [ 4  1 15 12]\n",
      "  [ 0 31 28 24]]\n",
      "\n",
      " [[18 20 23  1]\n",
      "  [ 9 13 37 31]\n",
      "  [21  8 17 19]\n",
      "  [14  4 11  9]\n",
      "  [10  7 11 26]]]\n",
      "[[[-34 -31  -3 -15]\n",
      "  [ -1  -3 -30 -32]\n",
      "  [ -2  -9 -35 -35]\n",
      "  [-35 -38 -24 -27]\n",
      "  [-39  -8 -11 -15]]\n",
      "\n",
      " [[-21 -19 -16 -38]\n",
      "  [-30 -26  -2  -8]\n",
      "  [-18 -31 -22 -20]\n",
      "  [-25 -35 -28 -30]\n",
      "  [-29 -32 -28 -13]]]\n",
      "[[[ 6 10 39 28]\n",
      "  [39 38 12 11]\n",
      "  [38 32  7  8]\n",
      "  [ 5  3 18 16]\n",
      "  [ 1 33 31 28]]\n",
      "\n",
      " [[19 22 26  5]\n",
      "  [10 15 40 35]\n",
      "  [22 10 20 23]\n",
      "  [15  6 14 13]\n",
      "  [11  9 14 30]]]\n"
     ]
    }
   ],
   "source": [
    "c = np.random.randint(0,40, [2,5,4])\n",
    "print(c)\n",
    "print(c - 39) # broadcast scalar 39 to shape [2,5,4]\n",
    "print(c + np.array([1,2,3,4])) # broadcast tensor [1,2,3,4] to shape [2,5,4]"
   ]
  },
  {
   "cell_type": "code",
   "execution_count": 49,
   "metadata": {},
   "outputs": [
    {
     "name": "stdout",
     "output_type": "stream",
     "text": [
      "[[[ 0  0  0  0]\n",
      "  [ 0 35  0  0]\n",
      "  [18 36  0  0]\n",
      "  [ 0 20  0  0]\n",
      "  [ 0  5 37  0]]\n",
      "\n",
      " [[31  0  0  1]\n",
      "  [12  0  0 34]\n",
      "  [ 0  0 37 11]\n",
      "  [27  0 29  7]\n",
      "  [ 9  0  0 21]]]\n"
     ]
    }
   ],
   "source": [
    "print((c >= 20) * np.random.randint(0,40,c.shape))"
   ]
  },
  {
   "cell_type": "code",
   "execution_count": null,
   "metadata": {
    "collapsed": true
   },
   "outputs": [],
   "source": []
  }
 ],
 "metadata": {
  "kernelspec": {
   "display_name": "Python 3",
   "language": "python",
   "name": "python3"
  },
  "language_info": {
   "codemirror_mode": {
    "name": "ipython",
    "version": 3
   },
   "file_extension": ".py",
   "mimetype": "text/x-python",
   "name": "python",
   "nbconvert_exporter": "python",
   "pygments_lexer": "ipython3",
   "version": "3.5.1"
  }
 },
 "nbformat": 4,
 "nbformat_minor": 2
}
