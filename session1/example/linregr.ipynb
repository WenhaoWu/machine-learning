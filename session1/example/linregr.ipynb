{
 "cells": [
  {
   "cell_type": "code",
   "execution_count": 20,
   "metadata": {},
   "outputs": [],
   "source": [
    "import numpy as np\n",
    "import keras"
   ]
  },
  {
   "cell_type": "code",
   "execution_count": 38,
   "metadata": {},
   "outputs": [
    {
     "ename": "AttributeError",
     "evalue": "'numpy.ndarray' object has no attribute 'concatenate'",
     "output_type": "error",
     "traceback": [
      "\u001b[0;31m---------------------------------------------------------------------------\u001b[0m",
      "\u001b[0;31mAttributeError\u001b[0m                            Traceback (most recent call last)",
      "\u001b[0;32m<ipython-input-38-ac449edc9743>\u001b[0m in \u001b[0;36m<module>\u001b[0;34m()\u001b[0m\n\u001b[1;32m      2\u001b[0m \u001b[0my\u001b[0m \u001b[0;34m=\u001b[0m \u001b[0;36m5\u001b[0m \u001b[0;34m*\u001b[0m \u001b[0;34m(\u001b[0m\u001b[0mx\u001b[0m  \u001b[0;34m+\u001b[0m \u001b[0;34m(\u001b[0m\u001b[0;36m0.2\u001b[0m \u001b[0;34m-\u001b[0m \u001b[0mnp\u001b[0m\u001b[0;34m.\u001b[0m\u001b[0mrandom\u001b[0m\u001b[0;34m.\u001b[0m\u001b[0mrand\u001b[0m\u001b[0;34m(\u001b[0m\u001b[0;36m2000\u001b[0m\u001b[0;34m,\u001b[0m\u001b[0;36m1\u001b[0m\u001b[0;34m)\u001b[0m \u001b[0;34m*\u001b[0m \u001b[0;36m0.4\u001b[0m\u001b[0;34m)\u001b[0m\u001b[0;34m)\u001b[0m \u001b[0;34m+\u001b[0m \u001b[0;36m4\u001b[0m\u001b[0;34m\u001b[0m\u001b[0m\n\u001b[1;32m      3\u001b[0m \u001b[0;34m\u001b[0m\u001b[0m\n\u001b[0;32m----> 4\u001b[0;31m \u001b[0mx\u001b[0m\u001b[0;34m.\u001b[0m\u001b[0mconcatenate\u001b[0m\u001b[0;34m(\u001b[0m\u001b[0mnp\u001b[0m\u001b[0;34m.\u001b[0m\u001b[0marray\u001b[0m\u001b[0;34m(\u001b[0m\u001b[0;34m[\u001b[0m\u001b[0;36m3\u001b[0m\u001b[0;34m]\u001b[0m\u001b[0;34m)\u001b[0m\u001b[0;34m)\u001b[0m\u001b[0;34m\u001b[0m\u001b[0m\n\u001b[0m\u001b[1;32m      5\u001b[0m \u001b[0my\u001b[0m\u001b[0;34m.\u001b[0m\u001b[0mconcatenate\u001b[0m\u001b[0;34m(\u001b[0m\u001b[0mnp\u001b[0m\u001b[0;34m.\u001b[0m\u001b[0marray\u001b[0m\u001b[0;34m(\u001b[0m\u001b[0;34m[\u001b[0m\u001b[0;36m90\u001b[0m\u001b[0;34m]\u001b[0m\u001b[0;34m)\u001b[0m\u001b[0;34m)\u001b[0m\u001b[0;34m\u001b[0m\u001b[0m\n\u001b[1;32m      6\u001b[0m \u001b[0;34m\u001b[0m\u001b[0m\n",
      "\u001b[0;31mAttributeError\u001b[0m: 'numpy.ndarray' object has no attribute 'concatenate'"
     ]
    }
   ],
   "source": [
    "x = np.random.rand(2000,1) * 1.0\n",
    "y = 5 * (x  + (0.2 - np.random.rand(2000,1) * 0.4)) + 4\n",
    "\n",
    "liny = 5 * x + 4\n",
    "\n",
    "print(x.shape)\n",
    "print(y.shape)"
   ]
  },
  {
   "cell_type": "code",
   "execution_count": 22,
   "metadata": {},
   "outputs": [
    {
     "data": {
      "image/png": "[encoded data removed]",
      "text/plain": [
       "<matplotlib.figure.Figure at 0x11ceaac88>"
      ]
     },
     "metadata": {},
     "output_type": "display_data"
    }
   ],
   "source": [
    "import matplotlib.pyplot as plt\n",
    "\n",
    "plt.plot(x, y, 'bo')\n",
    "plt.plot(x, liny, 'r')\n",
    "plt.xlabel('x')\n",
    "plt.ylabel('y')\n",
    "plt.show()"
   ]
  },
  {
   "cell_type": "code",
   "execution_count": 30,
   "metadata": {},
   "outputs": [
    {
     "name": "stdout",
     "output_type": "stream",
     "text": [
      "_________________________________________________________________\n",
      "Layer (type)                 Output Shape              Param #   \n",
      "=================================================================\n",
      "dense_15 (Dense)             (None, 1)                 2         \n",
      "=================================================================\n",
      "Total params: 2\n",
      "Trainable params: 2\n",
      "Non-trainable params: 0\n",
      "_________________________________________________________________\n",
      "Epoch 1/30\n",
      "2000/2000 [==============================] - 0s 164us/step - loss: 12.8347 - mean_squared_error: 12.8347\n",
      "Epoch 2/30\n",
      "2000/2000 [==============================] - 0s 42us/step - loss: 1.0201 - mean_squared_error: 1.0201\n",
      "Epoch 3/30\n",
      "2000/2000 [==============================] - 0s 43us/step - loss: 0.5215 - mean_squared_error: 0.5215\n",
      "Epoch 4/30\n",
      "2000/2000 [==============================] - 0s 43us/step - loss: 0.4753 - mean_squared_error: 0.4753\n",
      "Epoch 5/30\n",
      "2000/2000 [==============================] - 0s 43us/step - loss: 0.4520 - mean_squared_error: 0.4520\n",
      "Epoch 6/30\n",
      "2000/2000 [==============================] - 0s 44us/step - loss: 0.4324 - mean_squared_error: 0.4324\n",
      "Epoch 7/30\n",
      "2000/2000 [==============================] - 0s 48us/step - loss: 0.4157 - mean_squared_error: 0.4157\n",
      "Epoch 8/30\n",
      "2000/2000 [==============================] - 0s 44us/step - loss: 0.4022 - mean_squared_error: 0.4022\n",
      "Epoch 9/30\n",
      "2000/2000 [==============================] - 0s 43us/step - loss: 0.3903 - mean_squared_error: 0.3903\n",
      "Epoch 10/30\n",
      "2000/2000 [==============================] - 0s 44us/step - loss: 0.3805 - mean_squared_error: 0.3805\n",
      "Epoch 11/30\n",
      "2000/2000 [==============================] - 0s 43us/step - loss: 0.3721 - mean_squared_error: 0.3721\n",
      "Epoch 12/30\n",
      "2000/2000 [==============================] - 0s 44us/step - loss: 0.3650 - mean_squared_error: 0.3650\n",
      "Epoch 13/30\n",
      "2000/2000 [==============================] - 0s 44us/step - loss: 0.3592 - mean_squared_error: 0.3592\n",
      "Epoch 14/30\n",
      "2000/2000 [==============================] - 0s 52us/step - loss: 0.3542 - mean_squared_error: 0.3542\n",
      "Epoch 15/30\n",
      "2000/2000 [==============================] - 0s 46us/step - loss: 0.3499 - mean_squared_error: 0.3499\n",
      "Epoch 16/30\n",
      "2000/2000 [==============================] - 0s 46us/step - loss: 0.3463 - mean_squared_error: 0.3463\n",
      "Epoch 17/30\n",
      "2000/2000 [==============================] - 0s 39us/step - loss: 0.3431 - mean_squared_error: 0.3431\n",
      "Epoch 18/30\n",
      "2000/2000 [==============================] - 0s 45us/step - loss: 0.3407 - mean_squared_error: 0.3407\n",
      "Epoch 19/30\n",
      "2000/2000 [==============================] - 0s 50us/step - loss: 0.3386 - mean_squared_error: 0.3386\n",
      "Epoch 20/30\n",
      "2000/2000 [==============================] - 0s 75us/step - loss: 0.3368 - mean_squared_error: 0.3368\n",
      "Epoch 21/30\n",
      "2000/2000 [==============================] - 0s 67us/step - loss: 0.3351 - mean_squared_error: 0.3351\n",
      "Epoch 22/30\n",
      "2000/2000 [==============================] - 0s 48us/step - loss: 0.3339 - mean_squared_error: 0.3339\n",
      "Epoch 23/30\n",
      "2000/2000 [==============================] - 0s 44us/step - loss: 0.3329 - mean_squared_error: 0.3329\n",
      "Epoch 24/30\n",
      "2000/2000 [==============================] - 0s 45us/step - loss: 0.3317 - mean_squared_error: 0.3317\n",
      "Epoch 25/30\n",
      "2000/2000 [==============================] - 0s 47us/step - loss: 0.3310 - mean_squared_error: 0.3310\n",
      "Epoch 26/30\n",
      "2000/2000 [==============================] - 0s 77us/step - loss: 0.3304 - mean_squared_error: 0.3304\n",
      "Epoch 27/30\n",
      "2000/2000 [==============================] - 0s 54us/step - loss: 0.3300 - mean_squared_error: 0.3300\n",
      "Epoch 28/30\n",
      "2000/2000 [==============================] - 0s 44us/step - loss: 0.3292 - mean_squared_error: 0.3292\n",
      "Epoch 29/30\n",
      "2000/2000 [==============================] - 0s 58us/step - loss: 0.3291 - mean_squared_error: 0.3291\n",
      "Epoch 30/30\n",
      "2000/2000 [==============================] - 0s 59us/step - loss: 0.3287 - mean_squared_error: 0.3287\n"
     ]
    }
   ],
   "source": [
    "import keras\n",
    "\n",
    "from keras import models\n",
    "from keras import layers\n",
    "\n",
    "model = models.Sequential()\n",
    "model.add(layers.Dense(1, input_shape=(1,)))\n",
    "model.summary()\n",
    "\n",
    "model.compile(optimizer='sgd', loss='mse', metrics=['mse'])\n",
    "hist = model.fit(x, y, epochs=30, batch_size=32)"
   ]
  },
  {
   "cell_type": "code",
   "execution_count": 31,
   "metadata": {},
   "outputs": [
    {
     "data": {
      "text/plain": [
       "[array([[4.811583]], dtype=float32), array([4.070729], dtype=float32)]"
      ]
     },
     "execution_count": 31,
     "metadata": {},
     "output_type": "execute_result"
    }
   ],
   "source": [
    "model.get_weights()"
   ]
  },
  {
   "cell_type": "code",
   "execution_count": 32,
   "metadata": {},
   "outputs": [],
   "source": [
    "p = model.predict(np.array([3]))"
   ]
  },
  {
   "cell_type": "code",
   "execution_count": 33,
   "metadata": {},
   "outputs": [
    {
     "name": "stdout",
     "output_type": "stream",
     "text": [
      "[[18.505478]]\n"
     ]
    }
   ],
   "source": [
    "print(p)"
   ]
  },
  {
   "cell_type": "code",
   "execution_count": null,
   "metadata": {},
   "outputs": [],
   "source": []
  }
 ],
 "metadata": {
  "kernelspec": {
   "display_name": "Python 3",
   "language": "python",
   "name": "python3"
  },
  "language_info": {
   "codemirror_mode": {
    "name": "ipython",
    "version": 3
   },
   "file_extension": ".py",
   "mimetype": "text/x-python",
   "name": "python",
   "nbconvert_exporter": "python",
   "pygments_lexer": "ipython3",
   "version": "3.6.4"
  }
 },
 "nbformat": 4,
 "nbformat_minor": 2
}
