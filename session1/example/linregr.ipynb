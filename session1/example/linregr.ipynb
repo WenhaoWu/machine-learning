{
 "cells": [
  {
   "cell_type": "code",
   "execution_count": 1,
   "metadata": {},
   "outputs": [
    {
     "name": "stderr",
     "output_type": "stream",
     "text": [
      "Using TensorFlow backend.\n"
     ]
    }
   ],
   "source": [
    "import numpy as np\n",
    "import keras"
   ]
  },
  {
   "cell_type": "code",
   "execution_count": 7,
   "metadata": {},
   "outputs": [
    {
     "name": "stdout",
     "output_type": "stream",
     "text": [
      "(2000, 1)\n"
     ]
    }
   ],
   "source": [
    "x = np.random.rand(2000,1) * 1.0\n",
    "y = 5 * (x  + (0.2 - np.random.rand(2000,1) * 0.4)) + 4\n",
    "\n",
    "liny = 5 * x + 4\n",
    "\n",
    "print(x.shape)"
   ]
  },
  {
   "cell_type": "code",
   "execution_count": 8,
   "metadata": {},
   "outputs": [
    {
     "data": {
      "image/png": "[encoded data removed]",
      "text/plain": [
       "<matplotlib.figure.Figure at 0x11c7526d8>"
      ]
     },
     "metadata": {},
     "output_type": "display_data"
    }
   ],
   "source": [
    "import matplotlib.pyplot as plt\n",
    "\n",
    "plt.plot(x, y, 'bo')\n",
    "plt.plot(x, liny, 'r')\n",
    "plt.xlabel('x')\n",
    "plt.ylabel('y')\n",
    "plt.show()"
   ]
  },
  {
   "cell_type": "code",
   "execution_count": null,
   "metadata": {},
   "outputs": [
    {
     "name": "stdout",
     "output_type": "stream",
     "text": [
      "_________________________________________________________________\n",
      "Layer (type)                 Output Shape              Param #   \n",
      "=================================================================\n",
      "dense_1 (Dense)              (None, 1)                 2         \n",
      "=================================================================\n",
      "Total params: 2\n",
      "Trainable params: 2\n",
      "Non-trainable params: 0\n",
      "_________________________________________________________________\n",
      "Epoch 1/30\n",
      "2000/2000 [==============================] - 0s 159us/step - loss: 5.6535 - mean_squared_error: 5.6535\n",
      "Epoch 2/30\n",
      "2000/2000 [==============================] - 0s 69us/step - loss: 0.3957 - mean_squared_error: 0.3957\n",
      "Epoch 3/30\n",
      "2000/2000 [==============================] - 0s 69us/step - loss: 0.3737 - mean_squared_error: 0.3737\n",
      "Epoch 4/30\n",
      "2000/2000 [==============================] - 0s 71us/step - loss: 0.3646 - mean_squared_error: 0.3646\n",
      "Epoch 5/30\n",
      "2000/2000 [==============================] - 0s 69us/step - loss: 0.3582 - mean_squared_error: 0.3582\n",
      "Epoch 6/30\n",
      "2000/2000 [==============================] - 0s 71us/step - loss: 0.3531 - mean_squared_error: 0.3531\n",
      "Epoch 7/30\n",
      "2000/2000 [==============================] - 0s 71us/step - loss: 0.3500 - mean_squared_error: 0.3500\n",
      "Epoch 8/30\n",
      "2000/2000 [==============================] - 0s 71us/step - loss: 0.3477 - mean_squared_error: 0.3477\n",
      "Epoch 9/30\n",
      "2000/2000 [==============================] - 0s 70us/step - loss: 0.3461 - mean_squared_error: 0.3461\n",
      "Epoch 10/30\n",
      "2000/2000 [==============================] - 0s 69us/step - loss: 0.3449 - mean_squared_error: 0.3449\n",
      "Epoch 11/30\n",
      "2000/2000 [==============================] - 0s 70us/step - loss: 0.3437 - mean_squared_error: 0.3437\n",
      "Epoch 12/30\n",
      "2000/2000 [==============================] - 0s 69us/step - loss: 0.3434 - mean_squared_error: 0.3434\n",
      "Epoch 13/30\n",
      "2000/2000 [==============================] - 0s 70us/step - loss: 0.3428 - mean_squared_error: 0.3428\n",
      "Epoch 14/30\n",
      "2000/2000 [==============================] - 0s 69us/step - loss: 0.3425 - mean_squared_error: 0.3425\n",
      "Epoch 15/30\n",
      "2000/2000 [==============================] - 0s 69us/step - loss: 0.3424 - mean_squared_error: 0.3424\n",
      "Epoch 16/30\n",
      "2000/2000 [==============================] - 0s 68us/step - loss: 0.3420 - mean_squared_error: 0.3420\n",
      "Epoch 17/30\n",
      "2000/2000 [==============================] - 0s 69us/step - loss: 0.3420 - mean_squared_error: 0.3420\n",
      "Epoch 18/30\n",
      "2000/2000 [==============================] - 0s 73us/step - loss: 0.3423 - mean_squared_error: 0.3423\n",
      "Epoch 19/30\n",
      "2000/2000 [==============================] - 0s 101us/step - loss: 0.3418 - mean_squared_error: 0.34180s - loss: 0.3286 - mean_squared_error: \n",
      "Epoch 20/30\n",
      "2000/2000 [==============================] - 0s 116us/step - loss: 0.3416 - mean_squared_error: 0.3416\n",
      "Epoch 21/30\n",
      "1296/2000 [==================>...........] - ETA: 0s - loss: 0.3410 - mean_squared_error: 0.3410"
     ]
    }
   ],
   "source": [
    "import keras\n",
    "\n",
    "model = keras.models.Sequential()\n",
    "model.add(keras.layers.Dense(1, input_shape=(1,)))\n",
    "model.summary()\n",
    "\n",
    "model.compile(optimizer='sgd', loss='mse', metrics=['mse'])\n",
    "hist = model.fit(x, y, epochs=30, batch_size=16)"
   ]
  },
  {
   "cell_type": "code",
   "execution_count": 12,
   "metadata": {},
   "outputs": [
    {
     "data": {
      "text/plain": [
       "[array([[3.9899254]], dtype=float32), array([2.997923], dtype=float32)]"
      ]
     },
     "execution_count": 12,
     "metadata": {},
     "output_type": "execute_result"
    }
   ],
   "source": [
    "model.get_weights()"
   ]
  },
  {
   "cell_type": "code",
   "execution_count": 13,
   "metadata": {},
   "outputs": [],
   "source": [
    "p = model.predict(np.array([3]))"
   ]
  },
  {
   "cell_type": "code",
   "execution_count": 14,
   "metadata": {},
   "outputs": [
    {
     "name": "stdout",
     "output_type": "stream",
     "text": [
      "[[14.967699]]\n"
     ]
    }
   ],
   "source": [
    "print(p)"
   ]
  },
  {
   "cell_type": "code",
   "execution_count": null,
   "metadata": {
    "collapsed": true
   },
   "outputs": [],
   "source": []
  }
 ],
 "metadata": {
  "kernelspec": {
   "display_name": "Python 3",
   "language": "python",
   "name": "python3"
  },
  "language_info": {
   "codemirror_mode": {
    "name": "ipython",
    "version": 3
   },
   "file_extension": ".py",
   "mimetype": "text/x-python",
   "name": "python",
   "nbconvert_exporter": "python",
   "pygments_lexer": "ipython3",
   "version": "3.5.1"
  }
 },
 "nbformat": 4,
 "nbformat_minor": 2
}
