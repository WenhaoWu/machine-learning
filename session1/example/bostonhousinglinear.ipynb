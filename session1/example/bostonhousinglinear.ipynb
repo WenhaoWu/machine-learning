{
 "cells": [
  {
   "cell_type": "code",
   "execution_count": 14,
   "metadata": {},
   "outputs": [],
   "source": [
    "import numpy as np\n",
    "import keras"
   ]
  },
  {
   "cell_type": "code",
   "execution_count": 15,
   "metadata": {},
   "outputs": [],
   "source": [
    "from keras.datasets import boston_housing\n",
    "\n",
    "(x_train, y_train), (x_test, y_test) = boston_housing.load_data()\n",
    "\n",
    "mean = np.mean(x_train, axis=0)\n",
    "std = np.std(x_train, axis=0)\n",
    "\n",
    "x_train -= mean\n",
    "x_train /= (2 * std)\n",
    "\n",
    "x_test -= mean\n",
    "x_test /= (2 * std)"
   ]
  },
  {
   "cell_type": "code",
   "execution_count": 16,
   "metadata": {},
   "outputs": [],
   "source": [
    "model = keras.models.Sequential()\n",
    "model.add(keras.layers.Dense(1, input_shape=(13,)))\n",
    "\n",
    "model.compile(loss='mse', optimizer='sgd')"
   ]
  },
  {
   "cell_type": "code",
   "execution_count": 17,
   "metadata": {},
   "outputs": [
    {
     "name": "stdout",
     "output_type": "stream",
     "text": [
      "_________________________________________________________________\n",
      "Layer (type)                 Output Shape              Param #   \n",
      "=================================================================\n",
      "dense_1 (Dense)              (None, 1)                 14        \n",
      "=================================================================\n",
      "Total params: 14\n",
      "Trainable params: 14\n",
      "Non-trainable params: 0\n",
      "_________________________________________________________________\n"
     ]
    }
   ],
   "source": [
    "model.summary()"
   ]
  },
  {
   "cell_type": "code",
   "execution_count": 18,
   "metadata": {},
   "outputs": [
    {
     "name": "stdout",
     "output_type": "stream",
     "text": [
      "Epoch 1/20\n",
      "404/404 [==============================] - 0s 429us/step - loss: 480.8206\n",
      "Epoch 2/20\n",
      "404/404 [==============================] - 0s 45us/step - loss: 298.3005\n",
      "Epoch 3/20\n",
      "404/404 [==============================] - 0s 53us/step - loss: 191.4316\n",
      "Epoch 4/20\n",
      "404/404 [==============================] - 0s 53us/step - loss: 128.1690\n",
      "Epoch 5/20\n",
      "404/404 [==============================] - 0s 56us/step - loss: 90.6248\n",
      "Epoch 6/20\n",
      "404/404 [==============================] - 0s 48us/step - loss: 67.8176\n",
      "Epoch 7/20\n",
      "404/404 [==============================] - 0s 50us/step - loss: 53.8302\n",
      "Epoch 8/20\n",
      "404/404 [==============================] - 0s 46us/step - loss: 45.1952\n",
      "Epoch 9/20\n",
      "404/404 [==============================] - 0s 60us/step - loss: 39.6030\n",
      "Epoch 10/20\n",
      "404/404 [==============================] - 0s 54us/step - loss: 35.8838\n",
      "Epoch 11/20\n",
      "404/404 [==============================] - 0s 52us/step - loss: 33.4271\n",
      "Epoch 12/20\n",
      "404/404 [==============================] - 0s 58us/step - loss: 31.6068\n",
      "Epoch 13/20\n",
      "404/404 [==============================] - 0s 58us/step - loss: 30.3772\n",
      "Epoch 14/20\n",
      "404/404 [==============================] - 0s 52us/step - loss: 29.3894\n",
      "Epoch 15/20\n",
      "404/404 [==============================] - 0s 48us/step - loss: 28.6188\n",
      "Epoch 16/20\n",
      "404/404 [==============================] - 0s 51us/step - loss: 28.0156\n",
      "Epoch 17/20\n",
      "404/404 [==============================] - 0s 53us/step - loss: 27.4919\n",
      "Epoch 18/20\n",
      "404/404 [==============================] - 0s 54us/step - loss: 27.0747\n",
      "Epoch 19/20\n",
      "404/404 [==============================] - 0s 54us/step - loss: 26.7273\n",
      "Epoch 20/20\n",
      "404/404 [==============================] - 0s 59us/step - loss: 26.4269\n"
     ]
    }
   ],
   "source": [
    "hist = model.fit(x_train, y_train, epochs=20, batch_size = 32)"
   ]
  },
  {
   "cell_type": "code",
   "execution_count": 19,
   "metadata": {},
   "outputs": [],
   "source": [
    "preds = model.predict(x_test)"
   ]
  },
  {
   "cell_type": "code",
   "execution_count": 20,
   "metadata": {},
   "outputs": [
    {
     "name": "stdout",
     "output_type": "stream",
     "text": [
      "[array([[-1.3575249 ],\n",
      "       [ 1.6747288 ],\n",
      "       [-0.8427883 ],\n",
      "       [ 1.988256  ],\n",
      "       [-1.180578  ],\n",
      "       [ 5.3827424 ],\n",
      "       [-0.32037437],\n",
      "       [-2.350639  ],\n",
      "       [ 0.42202872],\n",
      "       [-0.95230585],\n",
      "       [-2.687918  ],\n",
      "       [ 1.3881271 ],\n",
      "       [-5.218858  ]], dtype=float32), array([22.290987], dtype=float32)]\n"
     ]
    }
   ],
   "source": [
    "print(model.get_weights())"
   ]
  },
  {
   "cell_type": "code",
   "execution_count": 21,
   "metadata": {},
   "outputs": [
    {
     "data": {
      "text/plain": [
       "[<matplotlib.lines.Line2D at 0x11f55f588>]"
      ]
     },
     "execution_count": 21,
     "metadata": {},
     "output_type": "execute_result"
    },
    {
     "data": {
      "image/png": "[encoded data removed]",
      "text/plain": [
       "<matplotlib.figure.Figure at 0x11f55f5f8>"
      ]
     },
     "metadata": {},
     "output_type": "display_data"
    }
   ],
   "source": [
    "import matplotlib.pyplot as plt\n",
    "\n",
    "plt.plot(y_test, preds, 'ro')\n",
    "plt.plot([0,50], [0,50], 'b')"
   ]
  },
  {
   "cell_type": "code",
   "execution_count": null,
   "metadata": {},
   "outputs": [],
   "source": []
  }
 ],
 "metadata": {
  "kernelspec": {
   "display_name": "Python 3",
   "language": "python",
   "name": "python3"
  },
  "language_info": {
   "codemirror_mode": {
    "name": "ipython",
    "version": 3
   },
   "file_extension": ".py",
   "mimetype": "text/x-python",
   "name": "python",
   "nbconvert_exporter": "python",
   "pygments_lexer": "ipython3",
   "version": "3.5.1"
  }
 },
 "nbformat": 4,
 "nbformat_minor": 2
}
