{
 "cells": [
  {
   "cell_type": "code",
   "execution_count": 24,
   "metadata": {},
   "outputs": [],
   "source": [
    "import numpy as np\n",
    "import keras"
   ]
  },
  {
   "cell_type": "code",
   "execution_count": 32,
   "metadata": {},
   "outputs": [
    {
     "name": "stdout",
     "output_type": "stream",
     "text": [
      "(404, 13)\n",
      "(404,)\n",
      "[  1.71710000e-01   2.50000000e+01   5.13000000e+00   0.00000000e+00\n",
      "   4.53000000e-01   5.96600000e+00   9.34000000e+01   6.81850000e+00\n",
      "   8.00000000e+00   2.84000000e+02   1.97000000e+01   3.78080000e+02\n",
      "   1.44400000e+01]\n",
      "16.0\n"
     ]
    }
   ],
   "source": [
    "from keras.datasets import boston_housing\n",
    "\n",
    "(x_train, y_train), (x_test, y_test) = boston_housing.load_data()\n",
    "\n",
    "print(x_train.shape)\n",
    "print(y_train.shape)\n",
    "\n",
    "print(x_train[78])\n",
    "print(y_train[78])\n",
    "\n",
    "mean = np.mean(x_train, axis=0)\n",
    "std = np.std(x_train, axis=0)\n",
    "\n",
    "x_train -= mean\n",
    "x_train /= (2 * std)\n",
    "\n",
    "x_test -= mean\n",
    "x_test /= (2 * std)"
   ]
  },
  {
   "cell_type": "code",
   "execution_count": 33,
   "metadata": {},
   "outputs": [],
   "source": [
    "model = keras.models.Sequential()\n",
    "model.add(keras.layers.Dense(1, input_shape=(13,)))\n",
    "\n",
    "model.compile(loss='mse', optimizer='sgd')"
   ]
  },
  {
   "cell_type": "code",
   "execution_count": 34,
   "metadata": {},
   "outputs": [
    {
     "name": "stdout",
     "output_type": "stream",
     "text": [
      "_________________________________________________________________\n",
      "Layer (type)                 Output Shape              Param #   \n",
      "=================================================================\n",
      "dense_4 (Dense)              (None, 1)                 14        \n",
      "=================================================================\n",
      "Total params: 14\n",
      "Trainable params: 14\n",
      "Non-trainable params: 0\n",
      "_________________________________________________________________\n"
     ]
    }
   ],
   "source": [
    "model.summary()"
   ]
  },
  {
   "cell_type": "code",
   "execution_count": 30,
   "metadata": {},
   "outputs": [
    {
     "name": "stdout",
     "output_type": "stream",
     "text": [
      "Epoch 1/20\n",
      "404/404 [==============================] - 0s 30us/step - loss: 23.8936\n",
      "Epoch 2/20\n",
      "404/404 [==============================] - 0s 40us/step - loss: 23.8587\n",
      "Epoch 3/20\n",
      "404/404 [==============================] - 0s 30us/step - loss: 23.8104\n",
      "Epoch 4/20\n",
      "404/404 [==============================] - 0s 38us/step - loss: 23.7435\n",
      "Epoch 5/20\n",
      "404/404 [==============================] - 0s 32us/step - loss: 23.7082\n",
      "Epoch 6/20\n",
      "404/404 [==============================] - 0s 30us/step - loss: 23.6662\n",
      "Epoch 7/20\n",
      "404/404 [==============================] - 0s 42us/step - loss: 23.6299\n",
      "Epoch 8/20\n",
      "404/404 [==============================] - 0s 32us/step - loss: 23.5984\n",
      "Epoch 9/20\n",
      "404/404 [==============================] - 0s 44us/step - loss: 23.5574\n",
      "Epoch 10/20\n",
      "404/404 [==============================] - 0s 31us/step - loss: 23.5143\n",
      "Epoch 11/20\n",
      "404/404 [==============================] - 0s 32us/step - loss: 23.4864\n",
      "Epoch 12/20\n",
      "404/404 [==============================] - 0s 35us/step - loss: 23.4525\n",
      "Epoch 13/20\n",
      "404/404 [==============================] - 0s 31us/step - loss: 23.4361\n",
      "Epoch 14/20\n",
      "404/404 [==============================] - 0s 30us/step - loss: 23.4316\n",
      "Epoch 15/20\n",
      "404/404 [==============================] - 0s 33us/step - loss: 23.3914\n",
      "Epoch 16/20\n",
      "404/404 [==============================] - 0s 31us/step - loss: 23.3545\n",
      "Epoch 17/20\n",
      "404/404 [==============================] - 0s 32us/step - loss: 23.3414\n",
      "Epoch 18/20\n",
      "404/404 [==============================] - 0s 32us/step - loss: 23.3196\n",
      "Epoch 19/20\n",
      "404/404 [==============================] - 0s 35us/step - loss: 23.3075\n",
      "Epoch 20/20\n",
      "404/404 [==============================] - 0s 32us/step - loss: 23.2829\n"
     ]
    }
   ],
   "source": [
    "hist = model.fit(x_train, y_train, epochs=20, batch_size = 32)"
   ]
  },
  {
   "cell_type": "code",
   "execution_count": 28,
   "metadata": {},
   "outputs": [],
   "source": [
    "preds = model.predict(x_test)"
   ]
  },
  {
   "cell_type": "code",
   "execution_count": 35,
   "metadata": {},
   "outputs": [
    {
     "name": "stdout",
     "output_type": "stream",
     "text": [
      "[array([[ 0.05344158],\n",
      "       [ 0.63540411],\n",
      "       [ 0.37158501],\n",
      "       [ 0.39288247],\n",
      "       [-0.03653026],\n",
      "       [-0.19312069],\n",
      "       [-0.01441616],\n",
      "       [-0.58739501],\n",
      "       [ 0.28077316],\n",
      "       [-0.06558847],\n",
      "       [ 0.60122478],\n",
      "       [-0.32361585],\n",
      "       [ 0.17224699]], dtype=float32), array([ 0.], dtype=float32)]\n"
     ]
    }
   ],
   "source": [
    "print(model.get_weights())"
   ]
  },
  {
   "cell_type": "code",
   "execution_count": 29,
   "metadata": {},
   "outputs": [
    {
     "data": {
      "text/plain": [
       "[<matplotlib.lines.Line2D at 0x11b13c8d0>]"
      ]
     },
     "execution_count": 29,
     "metadata": {},
     "output_type": "execute_result"
    },
    {
     "data": {
      "image/png": "[encoded data removed]",
      "text/plain": [
       "<matplotlib.figure.Figure at 0x11b13c748>"
      ]
     },
     "metadata": {},
     "output_type": "display_data"
    }
   ],
   "source": [
    "import matplotlib.pyplot as plt\n",
    "\n",
    "plt.plot(y_test, preds, 'ro')\n",
    "plt.plot([0,50], [0,50], 'b')"
   ]
  },
  {
   "cell_type": "code",
   "execution_count": null,
   "metadata": {},
   "outputs": [],
   "source": []
  }
 ],
 "metadata": {
  "kernelspec": {
   "display_name": "Python 3",
   "language": "python",
   "name": "python3"
  },
  "language_info": {
   "codemirror_mode": {
    "name": "ipython",
    "version": 3
   },
   "file_extension": ".py",
   "mimetype": "text/x-python",
   "name": "python",
   "nbconvert_exporter": "python",
   "pygments_lexer": "ipython3",
   "version": "3.6.4"
  }
 },
 "nbformat": 4,
 "nbformat_minor": 2
}
