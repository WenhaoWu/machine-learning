{
 "cells": [
  {
   "cell_type": "code",
   "execution_count": 10,
   "metadata": {},
   "outputs": [],
   "source": [
    "import numpy as np\n",
    "import keras"
   ]
  },
  {
   "cell_type": "code",
   "execution_count": 12,
   "metadata": {},
   "outputs": [
    {
     "name": "stdout",
     "output_type": "stream",
     "text": [
      "(404, 13)\n",
      "(404,)\n"
     ]
    }
   ],
   "source": [
    "from keras.datasets import boston_housing\n",
    "\n",
    "(x_train, y_train), (x_test, y_test) = boston_housing.load_data()\n",
    "\n",
    "print(x_train.shape)\n",
    "print(y_train.shape)\n",
    "\n",
    "mean = np.mean(x_train, axis=0)\n",
    "std = np.std(x_train, axis=0)\n",
    "\n",
    "x_train -= mean\n",
    "x_train /= (2 * std)\n",
    "\n",
    "x_test -= mean\n",
    "x_test /= (2 * std)"
   ]
  },
  {
   "cell_type": "code",
   "execution_count": null,
   "metadata": {},
   "outputs": [],
   "source": []
  },
  {
   "cell_type": "code",
   "execution_count": 22,
   "metadata": {},
   "outputs": [],
   "source": [
    "model = keras.models.Sequential()\n",
    "model.add(keras.layers.Dense(1, input_shape=(13,)))\n",
    "\n",
    "model.compile(optimizer='sgd', loss='mse')"
   ]
  },
  {
   "cell_type": "code",
   "execution_count": 23,
   "metadata": {},
   "outputs": [
    {
     "name": "stdout",
     "output_type": "stream",
     "text": [
      "_________________________________________________________________\n",
      "Layer (type)                 Output Shape              Param #   \n",
      "=================================================================\n",
      "dense_5 (Dense)              (None, 1)                 14        \n",
      "=================================================================\n",
      "Total params: 14\n",
      "Trainable params: 14\n",
      "Non-trainable params: 0\n",
      "_________________________________________________________________\n"
     ]
    }
   ],
   "source": [
    "model.summary()"
   ]
  },
  {
   "cell_type": "code",
   "execution_count": 24,
   "metadata": {},
   "outputs": [
    {
     "name": "stdout",
     "output_type": "stream",
     "text": [
      "Epoch 1/30\n",
      "404/404 [==============================] - 0s 969us/step - loss: 104.0470\n",
      "Epoch 2/30\n",
      "404/404 [==============================] - 0s 501us/step - loss: 27.1661\n",
      "Epoch 3/30\n",
      "404/404 [==============================] - 0s 533us/step - loss: 25.2683\n",
      "Epoch 4/30\n",
      "404/404 [==============================] - 0s 507us/step - loss: 24.6084\n",
      "Epoch 5/30\n",
      "404/404 [==============================] - 0s 512us/step - loss: 24.0743\n",
      "Epoch 6/30\n",
      "404/404 [==============================] - 0s 504us/step - loss: 23.9269\n",
      "Epoch 7/30\n",
      "404/404 [==============================] - 0s 540us/step - loss: 23.6806\n",
      "Epoch 8/30\n",
      "404/404 [==============================] - 0s 536us/step - loss: 23.5057\n",
      "Epoch 9/30\n",
      "404/404 [==============================] - 0s 545us/step - loss: 23.4622\n",
      "Epoch 10/30\n",
      "404/404 [==============================] - 0s 539us/step - loss: 23.3407\n",
      "Epoch 11/30\n",
      "404/404 [==============================] - 0s 581us/step - loss: 23.2906\n",
      "Epoch 12/30\n",
      "404/404 [==============================] - 0s 549us/step - loss: 23.3547\n",
      "Epoch 13/30\n",
      "404/404 [==============================] - 0s 541us/step - loss: 22.9921\n",
      "Epoch 14/30\n",
      "404/404 [==============================] - 0s 524us/step - loss: 23.1127\n",
      "Epoch 15/30\n",
      "404/404 [==============================] - 0s 549us/step - loss: 23.1821\n",
      "Epoch 16/30\n",
      "404/404 [==============================] - 0s 536us/step - loss: 23.0670\n",
      "Epoch 17/30\n",
      "404/404 [==============================] - 0s 594us/step - loss: 23.1515\n",
      "Epoch 18/30\n",
      "404/404 [==============================] - 0s 751us/step - loss: 23.0175\n",
      "Epoch 19/30\n",
      "404/404 [==============================] - 0s 689us/step - loss: 23.0265\n",
      "Epoch 20/30\n",
      "404/404 [==============================] - 0s 550us/step - loss: 23.1768\n",
      "Epoch 21/30\n",
      "404/404 [==============================] - 0s 612us/step - loss: 23.0273\n",
      "Epoch 22/30\n",
      "404/404 [==============================] - 0s 586us/step - loss: 23.1456\n",
      "Epoch 23/30\n",
      "404/404 [==============================] - 0s 533us/step - loss: 23.0061\n",
      "Epoch 24/30\n",
      "404/404 [==============================] - 0s 519us/step - loss: 23.0286\n",
      "Epoch 25/30\n",
      "404/404 [==============================] - 0s 542us/step - loss: 23.1695\n",
      "Epoch 26/30\n",
      "404/404 [==============================] - 0s 543us/step - loss: 23.0165\n",
      "Epoch 27/30\n",
      "404/404 [==============================] - 0s 545us/step - loss: 22.9884\n",
      "Epoch 28/30\n",
      "404/404 [==============================] - 0s 528us/step - loss: 23.0104\n",
      "Epoch 29/30\n",
      "404/404 [==============================] - 0s 782us/step - loss: 22.9644\n",
      "Epoch 30/30\n",
      "404/404 [==============================] - 0s 598us/step - loss: 22.8408\n"
     ]
    }
   ],
   "source": [
    "hist = model.fit(x_train, y_train, epochs=30, batch_size = 2)"
   ]
  },
  {
   "cell_type": "code",
   "execution_count": 25,
   "metadata": {},
   "outputs": [],
   "source": [
    "preds = model.predict(x_test)"
   ]
  },
  {
   "cell_type": "code",
   "execution_count": 26,
   "metadata": {},
   "outputs": [
    {
     "name": "stdout",
     "output_type": "stream",
     "text": [
      "[array([[-2.0490775 ],\n",
      "       [ 2.53263   ],\n",
      "       [-0.08268419],\n",
      "       [ 2.0830417 ],\n",
      "       [-4.783127  ],\n",
      "       [ 4.988871  ],\n",
      "       [ 0.4705796 ],\n",
      "       [-7.1025314 ],\n",
      "       [ 5.2160206 ],\n",
      "       [-2.9593897 ],\n",
      "       [-3.9111233 ],\n",
      "       [ 1.7191088 ],\n",
      "       [-8.056663  ]], dtype=float32), array([22.439354], dtype=float32)]\n"
     ]
    }
   ],
   "source": [
    "print(model.get_weights())"
   ]
  },
  {
   "cell_type": "code",
   "execution_count": 31,
   "metadata": {},
   "outputs": [
    {
     "data": {
      "text/plain": [
       "[<matplotlib.lines.Line2D at 0x11ef3ac18>]"
      ]
     },
     "execution_count": 31,
     "metadata": {},
     "output_type": "execute_result"
    },
    {
     "data": {
      "image/png": "[encoded data removed]",
      "text/plain": [
       "<matplotlib.figure.Figure at 0x11ef3ada0>"
      ]
     },
     "metadata": {},
     "output_type": "display_data"
    }
   ],
   "source": [
    "import matplotlib.pyplot as plt\n",
    "\n",
    "plt.plot(preds, 'ro')\n",
    "plt.plot(y_test, 'go')\n",
    "#plt.plot([0,50], [0,50], 'b')"
   ]
  },
  {
   "cell_type": "code",
   "execution_count": null,
   "metadata": {},
   "outputs": [],
   "source": []
  }
 ],
 "metadata": {
  "kernelspec": {
   "display_name": "Python 3",
   "language": "python",
   "name": "python3"
  },
  "language_info": {
   "codemirror_mode": {
    "name": "ipython",
    "version": 3
   },
   "file_extension": ".py",
   "mimetype": "text/x-python",
   "name": "python",
   "nbconvert_exporter": "python",
   "pygments_lexer": "ipython3",
   "version": "3.6.4"
  }
 },
 "nbformat": 4,
 "nbformat_minor": 2
}
